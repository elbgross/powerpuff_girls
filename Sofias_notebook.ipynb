{
 "cells": [
  {
   "cell_type": "code",
   "execution_count": 125,
   "id": "2f5f1c35",
   "metadata": {},
   "outputs": [],
   "source": [
    "#Sofias notebook\n",
    "#Trees in NY"
   ]
  },
  {
   "cell_type": "code",
   "execution_count": 126,
   "id": "8c608808",
   "metadata": {},
   "outputs": [
    {
     "data": {
      "text/plain": [
       "b'Sofias_branch\\n'"
      ]
     },
     "execution_count": 126,
     "metadata": {},
     "output_type": "execute_result"
    }
   ],
   "source": [
    "#Tip I received on how to know which branch I am on:\n",
    "\n",
    "import subprocess\n",
    "subprocess.check_output([\"git\", \"rev-parse\", \"--abbrev-ref\", \"HEAD\"])\n",
    "\n"
   ]
  },
  {
   "cell_type": "code",
   "execution_count": 127,
   "id": "b240570f",
   "metadata": {},
   "outputs": [
    {
     "data": {
      "text/plain": [
       "(683788, 45)"
      ]
     },
     "execution_count": 127,
     "metadata": {},
     "output_type": "execute_result"
    }
   ],
   "source": [
    "import pandas as pd\n",
    "\n",
    "path_csv = \"2015-street-tree-census-tree-data.csv\"\n",
    "\n",
    "df = pd.read_csv(path_csv)\n",
    "\n",
    "df.shape"
   ]
  },
  {
   "cell_type": "code",
   "execution_count": 128,
   "id": "2c8b7fad",
   "metadata": {},
   "outputs": [
    {
     "data": {
      "text/html": [
       "<div>\n",
       "<style scoped>\n",
       "    .dataframe tbody tr th:only-of-type {\n",
       "        vertical-align: middle;\n",
       "    }\n",
       "\n",
       "    .dataframe tbody tr th {\n",
       "        vertical-align: top;\n",
       "    }\n",
       "\n",
       "    .dataframe thead th {\n",
       "        text-align: right;\n",
       "    }\n",
       "</style>\n",
       "<table border=\"1\" class=\"dataframe\">\n",
       "  <thead>\n",
       "    <tr style=\"text-align: right;\">\n",
       "      <th></th>\n",
       "      <th>tree_id</th>\n",
       "      <th>block_id</th>\n",
       "      <th>created_at</th>\n",
       "      <th>tree_dbh</th>\n",
       "      <th>stump_diam</th>\n",
       "      <th>curb_loc</th>\n",
       "      <th>status</th>\n",
       "      <th>health</th>\n",
       "      <th>spc_latin</th>\n",
       "      <th>spc_common</th>\n",
       "      <th>...</th>\n",
       "      <th>boro_ct</th>\n",
       "      <th>state</th>\n",
       "      <th>latitude</th>\n",
       "      <th>longitude</th>\n",
       "      <th>x_sp</th>\n",
       "      <th>y_sp</th>\n",
       "      <th>council district</th>\n",
       "      <th>census tract</th>\n",
       "      <th>bin</th>\n",
       "      <th>bbl</th>\n",
       "    </tr>\n",
       "  </thead>\n",
       "  <tbody>\n",
       "    <tr>\n",
       "      <th>0</th>\n",
       "      <td>180683</td>\n",
       "      <td>348711</td>\n",
       "      <td>2015-08-27T00:00:00.000</td>\n",
       "      <td>3</td>\n",
       "      <td>0</td>\n",
       "      <td>OnCurb</td>\n",
       "      <td>Alive</td>\n",
       "      <td>Fair</td>\n",
       "      <td>Acer rubrum</td>\n",
       "      <td>red maple</td>\n",
       "      <td>...</td>\n",
       "      <td>4073900</td>\n",
       "      <td>New York</td>\n",
       "      <td>40.723092</td>\n",
       "      <td>-73.844215</td>\n",
       "      <td>1027431.148</td>\n",
       "      <td>202756.7687</td>\n",
       "      <td>29.0</td>\n",
       "      <td>739.0</td>\n",
       "      <td>4052307.0</td>\n",
       "      <td>4.022210e+09</td>\n",
       "    </tr>\n",
       "    <tr>\n",
       "      <th>1</th>\n",
       "      <td>200540</td>\n",
       "      <td>315986</td>\n",
       "      <td>2015-09-03T00:00:00.000</td>\n",
       "      <td>21</td>\n",
       "      <td>0</td>\n",
       "      <td>OnCurb</td>\n",
       "      <td>Alive</td>\n",
       "      <td>Fair</td>\n",
       "      <td>Quercus palustris</td>\n",
       "      <td>pin oak</td>\n",
       "      <td>...</td>\n",
       "      <td>4097300</td>\n",
       "      <td>New York</td>\n",
       "      <td>40.794111</td>\n",
       "      <td>-73.818679</td>\n",
       "      <td>1034455.701</td>\n",
       "      <td>228644.8374</td>\n",
       "      <td>19.0</td>\n",
       "      <td>973.0</td>\n",
       "      <td>4101931.0</td>\n",
       "      <td>4.044750e+09</td>\n",
       "    </tr>\n",
       "    <tr>\n",
       "      <th>2</th>\n",
       "      <td>204026</td>\n",
       "      <td>218365</td>\n",
       "      <td>2015-09-05T00:00:00.000</td>\n",
       "      <td>3</td>\n",
       "      <td>0</td>\n",
       "      <td>OnCurb</td>\n",
       "      <td>Alive</td>\n",
       "      <td>Good</td>\n",
       "      <td>Gleditsia triacanthos var. inermis</td>\n",
       "      <td>honeylocust</td>\n",
       "      <td>...</td>\n",
       "      <td>3044900</td>\n",
       "      <td>New York</td>\n",
       "      <td>40.717581</td>\n",
       "      <td>-73.936608</td>\n",
       "      <td>1001822.831</td>\n",
       "      <td>200716.8913</td>\n",
       "      <td>34.0</td>\n",
       "      <td>449.0</td>\n",
       "      <td>3338310.0</td>\n",
       "      <td>3.028870e+09</td>\n",
       "    </tr>\n",
       "    <tr>\n",
       "      <th>3</th>\n",
       "      <td>204337</td>\n",
       "      <td>217969</td>\n",
       "      <td>2015-09-05T00:00:00.000</td>\n",
       "      <td>10</td>\n",
       "      <td>0</td>\n",
       "      <td>OnCurb</td>\n",
       "      <td>Alive</td>\n",
       "      <td>Good</td>\n",
       "      <td>Gleditsia triacanthos var. inermis</td>\n",
       "      <td>honeylocust</td>\n",
       "      <td>...</td>\n",
       "      <td>3044900</td>\n",
       "      <td>New York</td>\n",
       "      <td>40.713537</td>\n",
       "      <td>-73.934456</td>\n",
       "      <td>1002420.358</td>\n",
       "      <td>199244.2531</td>\n",
       "      <td>34.0</td>\n",
       "      <td>449.0</td>\n",
       "      <td>3338342.0</td>\n",
       "      <td>3.029250e+09</td>\n",
       "    </tr>\n",
       "    <tr>\n",
       "      <th>4</th>\n",
       "      <td>189565</td>\n",
       "      <td>223043</td>\n",
       "      <td>2015-08-30T00:00:00.000</td>\n",
       "      <td>21</td>\n",
       "      <td>0</td>\n",
       "      <td>OnCurb</td>\n",
       "      <td>Alive</td>\n",
       "      <td>Good</td>\n",
       "      <td>Tilia americana</td>\n",
       "      <td>American linden</td>\n",
       "      <td>...</td>\n",
       "      <td>3016500</td>\n",
       "      <td>New York</td>\n",
       "      <td>40.666778</td>\n",
       "      <td>-73.975979</td>\n",
       "      <td>990913.775</td>\n",
       "      <td>182202.4260</td>\n",
       "      <td>39.0</td>\n",
       "      <td>165.0</td>\n",
       "      <td>3025654.0</td>\n",
       "      <td>3.010850e+09</td>\n",
       "    </tr>\n",
       "  </tbody>\n",
       "</table>\n",
       "<p>5 rows × 45 columns</p>\n",
       "</div>"
      ],
      "text/plain": [
       "   tree_id  block_id               created_at  tree_dbh  stump_diam curb_loc  \\\n",
       "0   180683    348711  2015-08-27T00:00:00.000         3           0   OnCurb   \n",
       "1   200540    315986  2015-09-03T00:00:00.000        21           0   OnCurb   \n",
       "2   204026    218365  2015-09-05T00:00:00.000         3           0   OnCurb   \n",
       "3   204337    217969  2015-09-05T00:00:00.000        10           0   OnCurb   \n",
       "4   189565    223043  2015-08-30T00:00:00.000        21           0   OnCurb   \n",
       "\n",
       "  status health                           spc_latin       spc_common  ...  \\\n",
       "0  Alive   Fair                         Acer rubrum        red maple  ...   \n",
       "1  Alive   Fair                   Quercus palustris          pin oak  ...   \n",
       "2  Alive   Good  Gleditsia triacanthos var. inermis      honeylocust  ...   \n",
       "3  Alive   Good  Gleditsia triacanthos var. inermis      honeylocust  ...   \n",
       "4  Alive   Good                     Tilia americana  American linden  ...   \n",
       "\n",
       "   boro_ct     state   latitude  longitude         x_sp         y_sp  \\\n",
       "0  4073900  New York  40.723092 -73.844215  1027431.148  202756.7687   \n",
       "1  4097300  New York  40.794111 -73.818679  1034455.701  228644.8374   \n",
       "2  3044900  New York  40.717581 -73.936608  1001822.831  200716.8913   \n",
       "3  3044900  New York  40.713537 -73.934456  1002420.358  199244.2531   \n",
       "4  3016500  New York  40.666778 -73.975979   990913.775  182202.4260   \n",
       "\n",
       "  council district census tract        bin           bbl  \n",
       "0             29.0        739.0  4052307.0  4.022210e+09  \n",
       "1             19.0        973.0  4101931.0  4.044750e+09  \n",
       "2             34.0        449.0  3338310.0  3.028870e+09  \n",
       "3             34.0        449.0  3338342.0  3.029250e+09  \n",
       "4             39.0        165.0  3025654.0  3.010850e+09  \n",
       "\n",
       "[5 rows x 45 columns]"
      ]
     },
     "execution_count": 128,
     "metadata": {},
     "output_type": "execute_result"
    }
   ],
   "source": [
    "df.head()"
   ]
  },
  {
   "cell_type": "code",
   "execution_count": 129,
   "id": "c9115a4b",
   "metadata": {},
   "outputs": [
    {
     "data": {
      "text/plain": [
       "Index(['tree_id', 'block_id', 'created_at', 'tree_dbh', 'stump_diam',\n",
       "       'curb_loc', 'status', 'health', 'spc_latin', 'spc_common', 'steward',\n",
       "       'guards', 'sidewalk', 'user_type', 'problems', 'root_stone',\n",
       "       'root_grate', 'root_other', 'trunk_wire', 'trnk_light', 'trnk_other',\n",
       "       'brch_light', 'brch_shoe', 'brch_other', 'address', 'postcode',\n",
       "       'zip_city', 'community board', 'borocode', 'borough', 'cncldist',\n",
       "       'st_assem', 'st_senate', 'nta', 'nta_name', 'boro_ct', 'state',\n",
       "       'latitude', 'longitude', 'x_sp', 'y_sp', 'council district',\n",
       "       'census tract', 'bin', 'bbl'],\n",
       "      dtype='object')"
      ]
     },
     "execution_count": 129,
     "metadata": {},
     "output_type": "execute_result"
    }
   ],
   "source": [
    "df.columns"
   ]
  },
  {
   "cell_type": "code",
   "execution_count": 130,
   "id": "d3731e92",
   "metadata": {},
   "outputs": [
    {
     "data": {
      "text/plain": [
       "np.int64(0)"
      ]
     },
     "execution_count": 130,
     "metadata": {},
     "output_type": "execute_result"
    }
   ],
   "source": [
    "df[\"borough\"].isna().sum()\n",
    "\n",
    "#No value with NA in column borough"
   ]
  },
  {
   "cell_type": "code",
   "execution_count": 131,
   "id": "f0d5f337",
   "metadata": {},
   "outputs": [
    {
     "data": {
      "text/plain": [
       "borough\n",
       "Queens           250551\n",
       "Brooklyn         177293\n",
       "Staten Island    105318\n",
       "Bronx             85203\n",
       "Manhattan         65423\n",
       "Name: count, dtype: int64"
      ]
     },
     "execution_count": 131,
     "metadata": {},
     "output_type": "execute_result"
    }
   ],
   "source": [
    "tree_ny = df[\"borough\"].value_counts()\n",
    "\n",
    "tree_ny"
   ]
  },
  {
   "cell_type": "code",
   "execution_count": 132,
   "id": "0f01442a",
   "metadata": {},
   "outputs": [
    {
     "data": {
      "text/html": [
       "<div>\n",
       "<style scoped>\n",
       "    .dataframe tbody tr th:only-of-type {\n",
       "        vertical-align: middle;\n",
       "    }\n",
       "\n",
       "    .dataframe tbody tr th {\n",
       "        vertical-align: top;\n",
       "    }\n",
       "\n",
       "    .dataframe thead th {\n",
       "        text-align: right;\n",
       "    }\n",
       "</style>\n",
       "<table border=\"1\" class=\"dataframe\">\n",
       "  <thead>\n",
       "    <tr style=\"text-align: right;\">\n",
       "      <th></th>\n",
       "      <th>borough</th>\n",
       "      <th>tree_count</th>\n",
       "    </tr>\n",
       "  </thead>\n",
       "  <tbody>\n",
       "    <tr>\n",
       "      <th>0</th>\n",
       "      <td>QUEENS</td>\n",
       "      <td>250551</td>\n",
       "    </tr>\n",
       "    <tr>\n",
       "      <th>1</th>\n",
       "      <td>BROOKLYN</td>\n",
       "      <td>177293</td>\n",
       "    </tr>\n",
       "    <tr>\n",
       "      <th>2</th>\n",
       "      <td>STATEN ISLAND</td>\n",
       "      <td>105318</td>\n",
       "    </tr>\n",
       "    <tr>\n",
       "      <th>3</th>\n",
       "      <td>BRONX</td>\n",
       "      <td>85203</td>\n",
       "    </tr>\n",
       "    <tr>\n",
       "      <th>4</th>\n",
       "      <td>MANHATTAN</td>\n",
       "      <td>65423</td>\n",
       "    </tr>\n",
       "  </tbody>\n",
       "</table>\n",
       "</div>"
      ],
      "text/plain": [
       "         borough  tree_count\n",
       "0         QUEENS      250551\n",
       "1       BROOKLYN      177293\n",
       "2  STATEN ISLAND      105318\n",
       "3          BRONX       85203\n",
       "4      MANHATTAN       65423"
      ]
     },
     "execution_count": 132,
     "metadata": {},
     "output_type": "execute_result"
    }
   ],
   "source": [
    "# Convert Series to DataFrame\n",
    "tree_ny_df = tree_ny.reset_index()\n",
    "tree_ny_df.columns = ['borough', 'tree_count']\n",
    "tree_ny_df['borough'] = tree_ny_df['borough'].str.upper()\n",
    "\n",
    "tree_ny_df"
   ]
  },
  {
   "cell_type": "code",
   "execution_count": 133,
   "id": "09d75796",
   "metadata": {},
   "outputs": [
    {
     "data": {
      "image/png": "[encoded data removed]",
      "text/plain": [
       "<Figure size 800x600 with 1 Axes>"
      ]
     },
     "metadata": {},
     "output_type": "display_data"
    }
   ],
   "source": [
    "import matplotlib.pyplot as plt\n",
    "import seaborn as sns\n",
    "\n",
    "plt.figure(figsize=(8,6))\n",
    "sns.barplot(data=tree_ny_df, x='borough', y='tree_count')\n",
    "plt.title(\"Tree counts in NY\")\n",
    "plt.ylabel(\"Count\")\n",
    "plt.xlabel(\"Borough\")\n",
    "plt.xticks(rotation=45)\n",
    "plt.tight_layout()\n",
    "plt.show()"
   ]
  },
  {
   "cell_type": "code",
   "execution_count": 134,
   "id": "ca767977",
   "metadata": {},
   "outputs": [
    {
     "name": "stdout",
     "output_type": "stream",
     "text": [
      "(2440, 4)\n"
     ]
    },
    {
     "data": {
      "text/html": [
       "<div>\n",
       "<style scoped>\n",
       "    .dataframe tbody tr th:only-of-type {\n",
       "        vertical-align: middle;\n",
       "    }\n",
       "\n",
       "    .dataframe tbody tr th {\n",
       "        vertical-align: top;\n",
       "    }\n",
       "\n",
       "    .dataframe thead th {\n",
       "        text-align: right;\n",
       "    }\n",
       "</style>\n",
       "<table border=\"1\" class=\"dataframe\">\n",
       "  <thead>\n",
       "    <tr style=\"text-align: right;\">\n",
       "      <th></th>\n",
       "      <th>Location Type</th>\n",
       "      <th>City</th>\n",
       "      <th>Borough</th>\n",
       "      <th>num_calls</th>\n",
       "    </tr>\n",
       "  </thead>\n",
       "  <tbody>\n",
       "    <tr>\n",
       "      <th>0</th>\n",
       "      <td>Club/Bar/Restaurant</td>\n",
       "      <td>STATEN ISLAND</td>\n",
       "      <td>STATEN ISLAND</td>\n",
       "      <td>40</td>\n",
       "    </tr>\n",
       "    <tr>\n",
       "      <th>1</th>\n",
       "      <td>Club/Bar/Restaurant</td>\n",
       "      <td>NEW YORK</td>\n",
       "      <td>MANHATTAN</td>\n",
       "      <td>18</td>\n",
       "    </tr>\n",
       "    <tr>\n",
       "      <th>2</th>\n",
       "      <td>Club/Bar/Restaurant</td>\n",
       "      <td>STATEN ISLAND</td>\n",
       "      <td>STATEN ISLAND</td>\n",
       "      <td>21</td>\n",
       "    </tr>\n",
       "    <tr>\n",
       "      <th>3</th>\n",
       "      <td>Club/Bar/Restaurant</td>\n",
       "      <td>NEW YORK</td>\n",
       "      <td>MANHATTAN</td>\n",
       "      <td>160</td>\n",
       "    </tr>\n",
       "    <tr>\n",
       "      <th>4</th>\n",
       "      <td>Club/Bar/Restaurant</td>\n",
       "      <td>BROOKLYN</td>\n",
       "      <td>BROOKLYN</td>\n",
       "      <td>17</td>\n",
       "    </tr>\n",
       "  </tbody>\n",
       "</table>\n",
       "</div>"
      ],
      "text/plain": [
       "         Location Type           City        Borough  num_calls\n",
       "0  Club/Bar/Restaurant  STATEN ISLAND  STATEN ISLAND         40\n",
       "1  Club/Bar/Restaurant       NEW YORK      MANHATTAN         18\n",
       "2  Club/Bar/Restaurant  STATEN ISLAND  STATEN ISLAND         21\n",
       "3  Club/Bar/Restaurant       NEW YORK      MANHATTAN        160\n",
       "4  Club/Bar/Restaurant       BROOKLYN       BROOKLYN         17"
      ]
     },
     "execution_count": 134,
     "metadata": {},
     "output_type": "execute_result"
    }
   ],
   "source": [
    "path_noise = \"Noise_complaint_mass.csv\"\n",
    "\n",
    "dfn = pd.read_csv(path_noise)\n",
    "\n",
    "print(dfn.shape)\n",
    "\n",
    "dfn.head()"
   ]
  },
  {
   "cell_type": "code",
   "execution_count": 135,
   "id": "547642a2",
   "metadata": {},
   "outputs": [
    {
     "data": {
      "text/plain": [
       "np.int64(0)"
      ]
     },
     "execution_count": 135,
     "metadata": {},
     "output_type": "execute_result"
    }
   ],
   "source": [
    "dfn[\"Borough\"].isna().sum()"
   ]
  },
  {
   "cell_type": "code",
   "execution_count": 136,
   "id": "cd16fefa",
   "metadata": {},
   "outputs": [
    {
     "data": {
      "text/plain": [
       "Borough\n",
       "MANHATTAN        1076\n",
       "BROOKLYN          736\n",
       "QUEENS            418\n",
       "BRONX             141\n",
       "STATEN ISLAND      64\n",
       "Unspecified         5\n",
       "Name: count, dtype: int64"
      ]
     },
     "execution_count": 136,
     "metadata": {},
     "output_type": "execute_result"
    }
   ],
   "source": [
    "noise_ny = dfn[\"Borough\"].value_counts()\n",
    "\n",
    "noise_ny"
   ]
  },
  {
   "cell_type": "code",
   "execution_count": 137,
   "id": "84d6c464",
   "metadata": {},
   "outputs": [
    {
     "name": "stdout",
     "output_type": "stream",
     "text": [
      "Shape after removing Unspecified: (2435, 4)\n"
     ]
    }
   ],
   "source": [
    "# Remove rows where Borough is \"Unspecified\"\n",
    "dfn = dfn[dfn[\"Borough\"] != \"Unspecified\"]\n",
    "\n",
    "print(f\"Shape after removing Unspecified: {dfn.shape}\")\n",
    "noise_ny = dfn[\"Borough\"].value_counts()"
   ]
  },
  {
   "cell_type": "code",
   "execution_count": 138,
   "id": "d30a6541",
   "metadata": {},
   "outputs": [
    {
     "data": {
      "text/html": [
       "<div>\n",
       "<style scoped>\n",
       "    .dataframe tbody tr th:only-of-type {\n",
       "        vertical-align: middle;\n",
       "    }\n",
       "\n",
       "    .dataframe tbody tr th {\n",
       "        vertical-align: top;\n",
       "    }\n",
       "\n",
       "    .dataframe thead th {\n",
       "        text-align: right;\n",
       "    }\n",
       "</style>\n",
       "<table border=\"1\" class=\"dataframe\">\n",
       "  <thead>\n",
       "    <tr style=\"text-align: right;\">\n",
       "      <th></th>\n",
       "      <th>borough</th>\n",
       "      <th>noise_count</th>\n",
       "    </tr>\n",
       "  </thead>\n",
       "  <tbody>\n",
       "    <tr>\n",
       "      <th>0</th>\n",
       "      <td>MANHATTAN</td>\n",
       "      <td>1076</td>\n",
       "    </tr>\n",
       "    <tr>\n",
       "      <th>1</th>\n",
       "      <td>BROOKLYN</td>\n",
       "      <td>736</td>\n",
       "    </tr>\n",
       "    <tr>\n",
       "      <th>2</th>\n",
       "      <td>QUEENS</td>\n",
       "      <td>418</td>\n",
       "    </tr>\n",
       "    <tr>\n",
       "      <th>3</th>\n",
       "      <td>BRONX</td>\n",
       "      <td>141</td>\n",
       "    </tr>\n",
       "    <tr>\n",
       "      <th>4</th>\n",
       "      <td>STATEN ISLAND</td>\n",
       "      <td>64</td>\n",
       "    </tr>\n",
       "  </tbody>\n",
       "</table>\n",
       "</div>"
      ],
      "text/plain": [
       "         borough  noise_count\n",
       "0      MANHATTAN         1076\n",
       "1       BROOKLYN          736\n",
       "2         QUEENS          418\n",
       "3          BRONX          141\n",
       "4  STATEN ISLAND           64"
      ]
     },
     "execution_count": 138,
     "metadata": {},
     "output_type": "execute_result"
    }
   ],
   "source": [
    "noise_ny_df = noise_ny.reset_index()\n",
    "noise_ny_df.columns = ['borough', 'noise_count']\n",
    "\n",
    "noise_ny_df"
   ]
  },
  {
   "cell_type": "code",
   "execution_count": 139,
   "id": "8d842d62",
   "metadata": {},
   "outputs": [
    {
     "data": {
      "image/png": "[encoded data removed]",
      "text/plain": [
       "<Figure size 800x600 with 1 Axes>"
      ]
     },
     "metadata": {},
     "output_type": "display_data"
    }
   ],
   "source": [
    "plt.figure(figsize=(8,6))\n",
    "sns.barplot(data=noise_ny_df, x='borough', y='noise_count')\n",
    "plt.title(\"Noise counts in NY\")\n",
    "plt.ylabel(\"Count\")\n",
    "plt.xlabel(\"Borough\")\n",
    "plt.xticks(rotation=45)\n",
    "plt.tight_layout()\n",
    "plt.show()"
   ]
  },
  {
   "cell_type": "code",
   "execution_count": 140,
   "id": "2e8df07b",
   "metadata": {},
   "outputs": [
    {
     "name": "stdout",
     "output_type": "stream",
     "text": [
      "(1712605, 14)\n"
     ]
    },
    {
     "data": {
      "text/html": [
       "<div>\n",
       "<style scoped>\n",
       "    .dataframe tbody tr th:only-of-type {\n",
       "        vertical-align: middle;\n",
       "    }\n",
       "\n",
       "    .dataframe tbody tr th {\n",
       "        vertical-align: top;\n",
       "    }\n",
       "\n",
       "    .dataframe thead th {\n",
       "        text-align: right;\n",
       "    }\n",
       "</style>\n",
       "<table border=\"1\" class=\"dataframe\">\n",
       "  <thead>\n",
       "    <tr style=\"text-align: right;\">\n",
       "      <th></th>\n",
       "      <th>RequestID</th>\n",
       "      <th>Boro</th>\n",
       "      <th>Yr</th>\n",
       "      <th>M</th>\n",
       "      <th>D</th>\n",
       "      <th>HH</th>\n",
       "      <th>MM</th>\n",
       "      <th>Vol</th>\n",
       "      <th>SegmentID</th>\n",
       "      <th>WktGeom</th>\n",
       "      <th>street</th>\n",
       "      <th>fromSt</th>\n",
       "      <th>toSt</th>\n",
       "      <th>Direction</th>\n",
       "    </tr>\n",
       "  </thead>\n",
       "  <tbody>\n",
       "    <tr>\n",
       "      <th>0</th>\n",
       "      <td>32970</td>\n",
       "      <td>Queens</td>\n",
       "      <td>2021</td>\n",
       "      <td>4</td>\n",
       "      <td>30</td>\n",
       "      <td>2</td>\n",
       "      <td>0</td>\n",
       "      <td>0</td>\n",
       "      <td>149701</td>\n",
       "      <td>POINT (997407.0998491726 208620.92612708386)</td>\n",
       "      <td>PULASKI BRIDGE</td>\n",
       "      <td>Newtown Creek Shoreline</td>\n",
       "      <td>Dead end</td>\n",
       "      <td>NB</td>\n",
       "    </tr>\n",
       "    <tr>\n",
       "      <th>1</th>\n",
       "      <td>32970</td>\n",
       "      <td>Queens</td>\n",
       "      <td>2021</td>\n",
       "      <td>4</td>\n",
       "      <td>30</td>\n",
       "      <td>2</td>\n",
       "      <td>15</td>\n",
       "      <td>1</td>\n",
       "      <td>149701</td>\n",
       "      <td>POINT (997407.0998491726 208620.92612708386)</td>\n",
       "      <td>PULASKI BRIDGE</td>\n",
       "      <td>Newtown Creek Shoreline</td>\n",
       "      <td>Dead end</td>\n",
       "      <td>NB</td>\n",
       "    </tr>\n",
       "    <tr>\n",
       "      <th>2</th>\n",
       "      <td>11342</td>\n",
       "      <td>Brooklyn</td>\n",
       "      <td>2012</td>\n",
       "      <td>12</td>\n",
       "      <td>18</td>\n",
       "      <td>8</td>\n",
       "      <td>15</td>\n",
       "      <td>33</td>\n",
       "      <td>20063</td>\n",
       "      <td>POINT (985746.5 167127.4)</td>\n",
       "      <td>61 ST</td>\n",
       "      <td>15 AV</td>\n",
       "      <td>16 AV</td>\n",
       "      <td>WB</td>\n",
       "    </tr>\n",
       "    <tr>\n",
       "      <th>3</th>\n",
       "      <td>32970</td>\n",
       "      <td>Queens</td>\n",
       "      <td>2021</td>\n",
       "      <td>4</td>\n",
       "      <td>30</td>\n",
       "      <td>2</td>\n",
       "      <td>30</td>\n",
       "      <td>0</td>\n",
       "      <td>149701</td>\n",
       "      <td>POINT (997407.0998491726 208620.92612708386)</td>\n",
       "      <td>PULASKI BRIDGE</td>\n",
       "      <td>Newtown Creek Shoreline</td>\n",
       "      <td>Dead end</td>\n",
       "      <td>NB</td>\n",
       "    </tr>\n",
       "    <tr>\n",
       "      <th>4</th>\n",
       "      <td>32970</td>\n",
       "      <td>Queens</td>\n",
       "      <td>2021</td>\n",
       "      <td>4</td>\n",
       "      <td>30</td>\n",
       "      <td>2</td>\n",
       "      <td>45</td>\n",
       "      <td>0</td>\n",
       "      <td>149701</td>\n",
       "      <td>POINT (997407.0998491726 208620.92612708386)</td>\n",
       "      <td>PULASKI BRIDGE</td>\n",
       "      <td>Newtown Creek Shoreline</td>\n",
       "      <td>Dead end</td>\n",
       "      <td>NB</td>\n",
       "    </tr>\n",
       "  </tbody>\n",
       "</table>\n",
       "</div>"
      ],
      "text/plain": [
       "   RequestID      Boro    Yr   M   D  HH  MM  Vol  SegmentID  \\\n",
       "0      32970    Queens  2021   4  30   2   0    0     149701   \n",
       "1      32970    Queens  2021   4  30   2  15    1     149701   \n",
       "2      11342  Brooklyn  2012  12  18   8  15   33      20063   \n",
       "3      32970    Queens  2021   4  30   2  30    0     149701   \n",
       "4      32970    Queens  2021   4  30   2  45    0     149701   \n",
       "\n",
       "                                        WktGeom          street  \\\n",
       "0  POINT (997407.0998491726 208620.92612708386)  PULASKI BRIDGE   \n",
       "1  POINT (997407.0998491726 208620.92612708386)  PULASKI BRIDGE   \n",
       "2                     POINT (985746.5 167127.4)           61 ST   \n",
       "3  POINT (997407.0998491726 208620.92612708386)  PULASKI BRIDGE   \n",
       "4  POINT (997407.0998491726 208620.92612708386)  PULASKI BRIDGE   \n",
       "\n",
       "                    fromSt      toSt Direction  \n",
       "0  Newtown Creek Shoreline  Dead end        NB  \n",
       "1  Newtown Creek Shoreline  Dead end        NB  \n",
       "2                    15 AV     16 AV        WB  \n",
       "3  Newtown Creek Shoreline  Dead end        NB  \n",
       "4  Newtown Creek Shoreline  Dead end        NB  "
      ]
     },
     "execution_count": 140,
     "metadata": {},
     "output_type": "execute_result"
    }
   ],
   "source": [
    "path_traffic = \"Automated_Traffic_Volume_Counts_20250420.csv\"\n",
    "\n",
    "dft = pd.read_csv(path_traffic)\n",
    "\n",
    "print(dft.shape)\n",
    "\n",
    "dft.head()"
   ]
  },
  {
   "cell_type": "code",
   "execution_count": 141,
   "id": "46924928",
   "metadata": {},
   "outputs": [
    {
     "data": {
      "text/plain": [
       "np.int64(0)"
      ]
     },
     "execution_count": 141,
     "metadata": {},
     "output_type": "execute_result"
    }
   ],
   "source": [
    "dft[\"Boro\"].isna().sum()"
   ]
  },
  {
   "cell_type": "code",
   "execution_count": 142,
   "id": "81567df6",
   "metadata": {},
   "outputs": [
    {
     "data": {
      "text/plain": [
       "Boro\n",
       "Queens           527236\n",
       "Brooklyn         481894\n",
       "Manhattan        306147\n",
       "Bronx            279508\n",
       "Staten Island    117820\n",
       "Name: count, dtype: int64"
      ]
     },
     "execution_count": 142,
     "metadata": {},
     "output_type": "execute_result"
    }
   ],
   "source": [
    "traffic_ny = dft[\"Boro\"].value_counts()\n",
    "\n",
    "traffic_ny"
   ]
  },
  {
   "cell_type": "code",
   "execution_count": 143,
   "id": "423f64a8",
   "metadata": {},
   "outputs": [
    {
     "name": "stdout",
     "output_type": "stream",
     "text": [
      "Columns in dft:\n",
      "['RequestID', 'Boro', 'Yr', 'M', 'D', 'HH', 'MM', 'Vol', 'SegmentID', 'WktGeom', 'street', 'fromSt', 'toSt', 'Direction']\n",
      "\n",
      "Data types:\n",
      "RequestID     int64\n",
      "Boro         object\n",
      "Yr            int64\n",
      "M             int64\n",
      "D             int64\n",
      "HH            int64\n",
      "MM            int64\n",
      "Vol           int64\n",
      "SegmentID     int64\n",
      "WktGeom      object\n",
      "street       object\n",
      "fromSt       object\n",
      "toSt         object\n",
      "Direction    object\n",
      "dtype: object\n"
     ]
    }
   ],
   "source": [
    "# Calculate mean values for each year (Yr) grouped by each borough (Boro)\n",
    "# First, let's see what columns contain numeric data\n",
    "print(\"Columns in dft:\")\n",
    "print(dft.columns.tolist())\n",
    "print(\"\\nData types:\")\n",
    "print(dft.dtypes)"
   ]
  },
  {
   "cell_type": "code",
   "execution_count": 144,
   "id": "963f71eb",
   "metadata": {},
   "outputs": [
    {
     "name": "stdout",
     "output_type": "stream",
     "text": [
      "\n",
      "Mean values by Borough and Year:\n"
     ]
    },
    {
     "data": {
      "text/plain": [
       "Boro   Yr  \n",
       "Bronx  2007    978.520904\n",
       "       2008    720.951166\n",
       "       2009     69.058889\n",
       "       2010    119.102899\n",
       "       2011     62.585884\n",
       "       2012    153.320389\n",
       "       2013    127.991634\n",
       "       2014    171.196088\n",
       "       2015    122.842667\n",
       "       2016     58.748972\n",
       "Name: Vol, dtype: float64"
      ]
     },
     "execution_count": 144,
     "metadata": {},
     "output_type": "execute_result"
    }
   ],
   "source": [
    "# Calculate mean values by Boro and Yr\n",
    "# Assuming we want to calculate mean of numeric columns (like traffic volume)\n",
    "\n",
    "# Get numeric columns only (excluding Boro and Yr which are grouping variables)\n",
    "#numeric_cols = dft.select_dtypes(include=['number']).columns.tolist()\n",
    "#print(f\"Numeric columns found: {numeric_cols}\")\n",
    "\n",
    "# Group by Boro and Yr, then calculate mean\n",
    "yearly_boro_means = dft.groupby(['Boro', 'Yr'])[\"Vol\"].mean()\n",
    "\n",
    "print(f\"\\nMean values by Borough and Year:\")\n",
    "#print(f\"Shape: {yearly_boro_means.shape}\")\n",
    "yearly_boro_means.head(10)"
   ]
  },
  {
   "cell_type": "code",
   "execution_count": 145,
   "id": "9297b4b5",
   "metadata": {},
   "outputs": [],
   "source": [
    "yearly_boro_means.to_csv(\"traffic_yearly.csv\")"
   ]
  },
  {
   "cell_type": "code",
   "execution_count": 146,
   "id": "1aec9d4d",
   "metadata": {},
   "outputs": [
    {
     "name": "stdout",
     "output_type": "stream",
     "text": [
      "Dropping years: [2000, 2006, 2007, 2008, 2009, 2010, 2011, 2012, 2013, 2014, 2015, 2016, 2017, 2018, 2019]\n",
      "Original shape: (92,)\n",
      "Years remaining: [2020, 2021, 2022, 2023, 2024]\n"
     ]
    },
    {
     "data": {
      "text/plain": [
       "Boro      Yr  \n",
       "Bronx     2020     86.477759\n",
       "          2021     54.392698\n",
       "          2022     72.851356\n",
       "          2023    100.423382\n",
       "          2024     46.528695\n",
       "Brooklyn  2020     79.548800\n",
       "          2021    144.310433\n",
       "          2022     86.561837\n",
       "          2023    168.578995\n",
       "          2024     84.205367\n",
       "Name: Vol, dtype: float64"
      ]
     },
     "execution_count": 146,
     "metadata": {},
     "output_type": "execute_result"
    }
   ],
   "source": [
    "# Remove multiple years using a list\n",
    "years_to_drop = [2000, 2006, 2007, 2008, 2009, 2010, 2011, 2012, 2013, 2014, 2015, 2016,2017, 2018, 2019]  # Add any years you want to exclude\n",
    "\n",
    "yearly_boro_means_filtered_multiple = yearly_boro_means[~yearly_boro_means.index.get_level_values('Yr').isin(years_to_drop)]\n",
    "\n",
    "print(f\"Dropping years: {years_to_drop}\")\n",
    "print(f\"Original shape: {yearly_boro_means.shape}\")\n",
    "print(f\"Years remaining: {sorted(yearly_boro_means_filtered_multiple.index.get_level_values('Yr').unique())}\")\n",
    "yearly_boro_means_filtered_multiple.head(10)"
   ]
  },
  {
   "cell_type": "code",
   "execution_count": 147,
   "id": "d2afb453",
   "metadata": {},
   "outputs": [
    {
     "data": {
      "image/png": "[encoded data removed]",
      "text/plain": [
       "<Figure size 1200x800 with 1 Axes>"
      ]
     },
     "metadata": {},
     "output_type": "display_data"
    },
    {
     "data": {
      "image/png": "[encoded data removed]",
      "text/plain": [
       "<Figure size 1200x800 with 1 Axes>"
      ]
     },
     "metadata": {},
     "output_type": "display_data"
    }
   ],
   "source": [
    "# Create visualization for traffic volume by borough and year\n",
    "import matplotlib.pyplot as plt\n",
    "import seaborn as sns\n",
    "\n",
    "# Convert MultiIndex Series to DataFrame for easier plotting\n",
    "traffic_df = yearly_boro_means_filtered_multiple.reset_index()\n",
    "traffic_df.columns = ['Borough', 'Year', 'Mean_Volume']\n",
    "\n",
    "# Create line plot showing trends over time by borough\n",
    "plt.figure(figsize=(12, 8))\n",
    "sns.lineplot(data=traffic_df, x='Year', y='Mean_Volume', hue='Borough', marker='o', linewidth=2)\n",
    "plt.title('Average Traffic Volume by Borough Over Time', fontsize=16, fontweight='bold')\n",
    "plt.xlabel('Year', fontsize=12)\n",
    "plt.ylabel('Average Traffic Volume', fontsize=12)\n",
    "plt.legend(title='Borough', bbox_to_anchor=(1.05, 1), loc='upper left')\n",
    "plt.grid(True, alpha=0.3)\n",
    "plt.tight_layout()\n",
    "plt.show()\n",
    "\n",
    "# Also create a bar plot for comparison\n",
    "plt.figure(figsize=(12, 8))\n",
    "sns.barplot(data=traffic_df, x='Year', y='Mean_Volume', hue='Borough')\n",
    "plt.title('Average Traffic Volume by Borough and Year', fontsize=16, fontweight='bold')\n",
    "plt.xlabel('Year', fontsize=12)\n",
    "plt.ylabel('Average Traffic Volume', fontsize=12)\n",
    "plt.legend(title='Borough', bbox_to_anchor=(1.05, 1), loc='upper left')\n",
    "plt.xticks(rotation=45)\n",
    "plt.tight_layout()\n",
    "plt.show()"
   ]
  },
  {
   "cell_type": "code",
   "execution_count": 148,
   "id": "98dc17b6",
   "metadata": {},
   "outputs": [
    {
     "name": "stdout",
     "output_type": "stream",
     "text": [
      "\n",
      "Mean traffic volume by Borough:\n",
      "Boro\n",
      "Bronx             72.134778\n",
      "Brooklyn         112.641087\n",
      "Manhattan        134.200420\n",
      "Queens           130.446396\n",
      "Staten Island    112.458627\n",
      "Name: Vol, dtype: float64\n"
     ]
    }
   ],
   "source": [
    "# Correct ways to calculate means from the MultiIndex Series\n",
    "\n",
    "# Option 1: Overall mean of all values\n",
    "#overall_mean = yearly_boro_means_filtered_multiple.mean()\n",
    "#print(f\"Overall mean traffic volume: {overall_mean}\")\n",
    "\n",
    "# Option 2: Mean by Borough (group by first level of index)\n",
    "mean_by_borough = yearly_boro_means_filtered_multiple.groupby('Boro').mean()\n",
    "print(f\"\\nMean traffic volume by Borough:\")\n",
    "print(mean_by_borough)\n",
    "\n",
    "# Option 3: Mean by Year (group by second level of index)\n",
    "#mean_by_year = yearly_boro_means_filtered_multiple.groupby('Yr').mean()\n",
    "#print(f\"\\nMean traffic volume by Year:\")\n",
    "#print(mean_by_year)"
   ]
  },
  {
   "cell_type": "code",
   "execution_count": 149,
   "id": "81d202ff",
   "metadata": {},
   "outputs": [
    {
     "data": {
      "image/png": "[encoded data removed]",
      "text/plain": [
       "<Figure size 800x600 with 1 Axes>"
      ]
     },
     "metadata": {},
     "output_type": "display_data"
    }
   ],
   "source": [
    "traffic_mean_df = mean_by_borough.reset_index()\n",
    "traffic_mean_df.columns = ['borough', \"traffic_voloume\"]\n",
    "traffic_mean_df['borough'] = traffic_mean_df['borough'].str.upper()\n",
    "\n",
    "plt.figure(figsize=(8,6))\n",
    "sns.barplot(data=traffic_mean_df, x='borough',y=\"traffic_voloume\")\n",
    "plt.title(\"Traffic volume in NY\")\n",
    "plt.ylabel(\"Count\")\n",
    "plt.xlabel(\"Borough\")\n",
    "plt.xticks(rotation=45)\n",
    "plt.tight_layout()\n",
    "plt.show()"
   ]
  },
  {
   "cell_type": "code",
   "execution_count": 150,
   "id": "bb70ea02",
   "metadata": {},
   "outputs": [],
   "source": [
    "#-74.268196,40.489402,-73.691714,40.921195"
   ]
  },
  {
   "cell_type": "code",
   "execution_count": 151,
   "id": "748495db",
   "metadata": {},
   "outputs": [
    {
     "name": "stdout",
     "output_type": "stream",
     "text": [
      "c:\\Users\\Sofia\\anaconda3\\python.exe\n"
     ]
    }
   ],
   "source": [
    "import sys\n",
    "print(sys.executable)"
   ]
  },
  {
   "cell_type": "code",
   "execution_count": 152,
   "id": "b821890e",
   "metadata": {},
   "outputs": [],
   "source": [
    "#conda activate blablabla\n",
    "#pip install openaq"
   ]
  },
  {
   "cell_type": "code",
   "execution_count": 153,
   "id": "1149d1fd",
   "metadata": {},
   "outputs": [
    {
     "name": "stdout",
     "output_type": "stream",
     "text": [
      "(60641, 8)\n"
     ]
    },
    {
     "data": {
      "text/html": [
       "<div>\n",
       "<style scoped>\n",
       "    .dataframe tbody tr th:only-of-type {\n",
       "        vertical-align: middle;\n",
       "    }\n",
       "\n",
       "    .dataframe tbody tr th {\n",
       "        vertical-align: top;\n",
       "    }\n",
       "\n",
       "    .dataframe thead th {\n",
       "        text-align: right;\n",
       "    }\n",
       "</style>\n",
       "<table border=\"1\" class=\"dataframe\">\n",
       "  <thead>\n",
       "    <tr style=\"text-align: right;\">\n",
       "      <th></th>\n",
       "      <th>location_name</th>\n",
       "      <th>date</th>\n",
       "      <th>sensor_id</th>\n",
       "      <th>pm25</th>\n",
       "      <th>sensor_id_dup</th>\n",
       "      <th>pm10</th>\n",
       "      <th>sensor_id_dup.1</th>\n",
       "      <th>pm1</th>\n",
       "    </tr>\n",
       "  </thead>\n",
       "  <tbody>\n",
       "    <tr>\n",
       "      <th>0</th>\n",
       "      <td>54th St &amp; Grand Ave [NYC Testbed Pilot]</td>\n",
       "      <td>2024-10-17T14:59:52Z</td>\n",
       "      <td>10986462.0</td>\n",
       "      <td>4.30</td>\n",
       "      <td>NaN</td>\n",
       "      <td>NaN</td>\n",
       "      <td>NaN</td>\n",
       "      <td>NaN</td>\n",
       "    </tr>\n",
       "    <tr>\n",
       "      <th>1</th>\n",
       "      <td>54th St &amp; Grand Ave [NYC Testbed Pilot]</td>\n",
       "      <td>2024-10-17T15:05:32Z</td>\n",
       "      <td>10986462.0</td>\n",
       "      <td>4.30</td>\n",
       "      <td>NaN</td>\n",
       "      <td>NaN</td>\n",
       "      <td>NaN</td>\n",
       "      <td>NaN</td>\n",
       "    </tr>\n",
       "    <tr>\n",
       "      <th>2</th>\n",
       "      <td>54th St &amp; Grand Ave [NYC Testbed Pilot]</td>\n",
       "      <td>2024-10-17T15:11:12Z</td>\n",
       "      <td>10986462.0</td>\n",
       "      <td>5.03</td>\n",
       "      <td>NaN</td>\n",
       "      <td>NaN</td>\n",
       "      <td>NaN</td>\n",
       "      <td>NaN</td>\n",
       "    </tr>\n",
       "    <tr>\n",
       "      <th>3</th>\n",
       "      <td>54th St &amp; Grand Ave [NYC Testbed Pilot]</td>\n",
       "      <td>2024-10-17T15:16:51Z</td>\n",
       "      <td>10986462.0</td>\n",
       "      <td>4.74</td>\n",
       "      <td>NaN</td>\n",
       "      <td>NaN</td>\n",
       "      <td>NaN</td>\n",
       "      <td>NaN</td>\n",
       "    </tr>\n",
       "    <tr>\n",
       "      <th>4</th>\n",
       "      <td>54th St &amp; Grand Ave [NYC Testbed Pilot]</td>\n",
       "      <td>2024-10-17T15:22:31Z</td>\n",
       "      <td>10986462.0</td>\n",
       "      <td>7.09</td>\n",
       "      <td>NaN</td>\n",
       "      <td>NaN</td>\n",
       "      <td>NaN</td>\n",
       "      <td>NaN</td>\n",
       "    </tr>\n",
       "  </tbody>\n",
       "</table>\n",
       "</div>"
      ],
      "text/plain": [
       "                             location_name                  date   sensor_id  \\\n",
       "0  54th St & Grand Ave [NYC Testbed Pilot]  2024-10-17T14:59:52Z  10986462.0   \n",
       "1  54th St & Grand Ave [NYC Testbed Pilot]  2024-10-17T15:05:32Z  10986462.0   \n",
       "2  54th St & Grand Ave [NYC Testbed Pilot]  2024-10-17T15:11:12Z  10986462.0   \n",
       "3  54th St & Grand Ave [NYC Testbed Pilot]  2024-10-17T15:16:51Z  10986462.0   \n",
       "4  54th St & Grand Ave [NYC Testbed Pilot]  2024-10-17T15:22:31Z  10986462.0   \n",
       "\n",
       "   pm25  sensor_id_dup  pm10  sensor_id_dup.1  pm1  \n",
       "0  4.30            NaN   NaN              NaN  NaN  \n",
       "1  4.30            NaN   NaN              NaN  NaN  \n",
       "2  5.03            NaN   NaN              NaN  NaN  \n",
       "3  4.74            NaN   NaN              NaN  NaN  \n",
       "4  7.09            NaN   NaN              NaN  NaN  "
      ]
     },
     "execution_count": 153,
     "metadata": {},
     "output_type": "execute_result"
    }
   ],
   "source": [
    "#put a new columns with the neighborhood name\n",
    "\n",
    "path_pollutant = \"Pollutants_NYC.csv\"\n",
    "\n",
    "dfp = pd.read_csv(path_pollutant)\n",
    "\n",
    "print(dfp.shape)\n",
    "\n",
    "dfp.head()"
   ]
  },
  {
   "cell_type": "code",
   "execution_count": 154,
   "id": "dccc20c2",
   "metadata": {},
   "outputs": [
    {
     "data": {
      "text/html": [
       "<div>\n",
       "<style scoped>\n",
       "    .dataframe tbody tr th:only-of-type {\n",
       "        vertical-align: middle;\n",
       "    }\n",
       "\n",
       "    .dataframe tbody tr th {\n",
       "        vertical-align: top;\n",
       "    }\n",
       "\n",
       "    .dataframe thead th {\n",
       "        text-align: right;\n",
       "    }\n",
       "</style>\n",
       "<table border=\"1\" class=\"dataframe\">\n",
       "  <thead>\n",
       "    <tr style=\"text-align: right;\">\n",
       "      <th></th>\n",
       "      <th>location_name</th>\n",
       "      <th>date</th>\n",
       "      <th>sensor_id</th>\n",
       "      <th>pm25</th>\n",
       "      <th>sensor_id_dup</th>\n",
       "      <th>pm10</th>\n",
       "      <th>sensor_id_dup.1</th>\n",
       "      <th>pm1</th>\n",
       "    </tr>\n",
       "  </thead>\n",
       "  <tbody>\n",
       "    <tr>\n",
       "      <th>0</th>\n",
       "      <td>54th St &amp; Grand Ave [NYC Testbed Pilot]</td>\n",
       "      <td>2024-10-17T14:59:52Z</td>\n",
       "      <td>10986462.0</td>\n",
       "      <td>4.30</td>\n",
       "      <td>NaN</td>\n",
       "      <td>NaN</td>\n",
       "      <td>NaN</td>\n",
       "      <td>NaN</td>\n",
       "    </tr>\n",
       "    <tr>\n",
       "      <th>1</th>\n",
       "      <td>54th St &amp; Grand Ave [NYC Testbed Pilot]</td>\n",
       "      <td>2024-10-17T15:05:32Z</td>\n",
       "      <td>10986462.0</td>\n",
       "      <td>4.30</td>\n",
       "      <td>NaN</td>\n",
       "      <td>NaN</td>\n",
       "      <td>NaN</td>\n",
       "      <td>NaN</td>\n",
       "    </tr>\n",
       "    <tr>\n",
       "      <th>2</th>\n",
       "      <td>54th St &amp; Grand Ave [NYC Testbed Pilot]</td>\n",
       "      <td>2024-10-17T15:11:12Z</td>\n",
       "      <td>10986462.0</td>\n",
       "      <td>5.03</td>\n",
       "      <td>NaN</td>\n",
       "      <td>NaN</td>\n",
       "      <td>NaN</td>\n",
       "      <td>NaN</td>\n",
       "    </tr>\n",
       "    <tr>\n",
       "      <th>3</th>\n",
       "      <td>54th St &amp; Grand Ave [NYC Testbed Pilot]</td>\n",
       "      <td>2024-10-17T15:16:51Z</td>\n",
       "      <td>10986462.0</td>\n",
       "      <td>4.74</td>\n",
       "      <td>NaN</td>\n",
       "      <td>NaN</td>\n",
       "      <td>NaN</td>\n",
       "      <td>NaN</td>\n",
       "    </tr>\n",
       "    <tr>\n",
       "      <th>4</th>\n",
       "      <td>54th St &amp; Grand Ave [NYC Testbed Pilot]</td>\n",
       "      <td>2024-10-17T15:22:31Z</td>\n",
       "      <td>10986462.0</td>\n",
       "      <td>7.09</td>\n",
       "      <td>NaN</td>\n",
       "      <td>NaN</td>\n",
       "      <td>NaN</td>\n",
       "      <td>NaN</td>\n",
       "    </tr>\n",
       "  </tbody>\n",
       "</table>\n",
       "</div>"
      ],
      "text/plain": [
       "                             location_name                  date   sensor_id  \\\n",
       "0  54th St & Grand Ave [NYC Testbed Pilot]  2024-10-17T14:59:52Z  10986462.0   \n",
       "1  54th St & Grand Ave [NYC Testbed Pilot]  2024-10-17T15:05:32Z  10986462.0   \n",
       "2  54th St & Grand Ave [NYC Testbed Pilot]  2024-10-17T15:11:12Z  10986462.0   \n",
       "3  54th St & Grand Ave [NYC Testbed Pilot]  2024-10-17T15:16:51Z  10986462.0   \n",
       "4  54th St & Grand Ave [NYC Testbed Pilot]  2024-10-17T15:22:31Z  10986462.0   \n",
       "\n",
       "   pm25  sensor_id_dup  pm10  sensor_id_dup.1  pm1  \n",
       "0  4.30            NaN   NaN              NaN  NaN  \n",
       "1  4.30            NaN   NaN              NaN  NaN  \n",
       "2  5.03            NaN   NaN              NaN  NaN  \n",
       "3  4.74            NaN   NaN              NaN  NaN  \n",
       "4  7.09            NaN   NaN              NaN  NaN  "
      ]
     },
     "execution_count": 154,
     "metadata": {},
     "output_type": "execute_result"
    }
   ],
   "source": [
    "dfp.head()"
   ]
  },
  {
   "cell_type": "code",
   "execution_count": 155,
   "id": "b7fb5029",
   "metadata": {},
   "outputs": [],
   "source": [
    "# This is CORRECT - merge 2 DataFrames at a time\n",
    "merged_df = pd.merge(noise_ny_df, traffic_mean_df, on=\"borough\")\n",
    "merged_df = pd.merge(merged_df, tree_ny_df, on=\"borough\")"
   ]
  },
  {
   "cell_type": "code",
   "execution_count": 156,
   "id": "4ef9a3cc",
   "metadata": {},
   "outputs": [
    {
     "data": {
      "text/html": [
       "<div>\n",
       "<style scoped>\n",
       "    .dataframe tbody tr th:only-of-type {\n",
       "        vertical-align: middle;\n",
       "    }\n",
       "\n",
       "    .dataframe tbody tr th {\n",
       "        vertical-align: top;\n",
       "    }\n",
       "\n",
       "    .dataframe thead th {\n",
       "        text-align: right;\n",
       "    }\n",
       "</style>\n",
       "<table border=\"1\" class=\"dataframe\">\n",
       "  <thead>\n",
       "    <tr style=\"text-align: right;\">\n",
       "      <th></th>\n",
       "      <th>borough</th>\n",
       "      <th>noise_count</th>\n",
       "      <th>traffic_voloume</th>\n",
       "      <th>tree_count</th>\n",
       "    </tr>\n",
       "  </thead>\n",
       "  <tbody>\n",
       "    <tr>\n",
       "      <th>0</th>\n",
       "      <td>MANHATTAN</td>\n",
       "      <td>1076</td>\n",
       "      <td>134.200420</td>\n",
       "      <td>65423</td>\n",
       "    </tr>\n",
       "    <tr>\n",
       "      <th>1</th>\n",
       "      <td>BROOKLYN</td>\n",
       "      <td>736</td>\n",
       "      <td>112.641087</td>\n",
       "      <td>177293</td>\n",
       "    </tr>\n",
       "    <tr>\n",
       "      <th>2</th>\n",
       "      <td>QUEENS</td>\n",
       "      <td>418</td>\n",
       "      <td>130.446396</td>\n",
       "      <td>250551</td>\n",
       "    </tr>\n",
       "    <tr>\n",
       "      <th>3</th>\n",
       "      <td>BRONX</td>\n",
       "      <td>141</td>\n",
       "      <td>72.134778</td>\n",
       "      <td>85203</td>\n",
       "    </tr>\n",
       "    <tr>\n",
       "      <th>4</th>\n",
       "      <td>STATEN ISLAND</td>\n",
       "      <td>64</td>\n",
       "      <td>112.458627</td>\n",
       "      <td>105318</td>\n",
       "    </tr>\n",
       "  </tbody>\n",
       "</table>\n",
       "</div>"
      ],
      "text/plain": [
       "         borough  noise_count  traffic_voloume  tree_count\n",
       "0      MANHATTAN         1076       134.200420       65423\n",
       "1       BROOKLYN          736       112.641087      177293\n",
       "2         QUEENS          418       130.446396      250551\n",
       "3          BRONX          141        72.134778       85203\n",
       "4  STATEN ISLAND           64       112.458627      105318"
      ]
     },
     "execution_count": 156,
     "metadata": {},
     "output_type": "execute_result"
    }
   ],
   "source": [
    "merged_df"
   ]
  },
  {
   "cell_type": "code",
   "execution_count": 157,
   "id": "93836ac3",
   "metadata": {},
   "outputs": [
    {
     "name": "stdout",
     "output_type": "stream",
     "text": [
      "(5, 4)\n"
     ]
    },
    {
     "data": {
      "text/html": [
       "<div>\n",
       "<style scoped>\n",
       "    .dataframe tbody tr th:only-of-type {\n",
       "        vertical-align: middle;\n",
       "    }\n",
       "\n",
       "    .dataframe tbody tr th {\n",
       "        vertical-align: top;\n",
       "    }\n",
       "\n",
       "    .dataframe thead th {\n",
       "        text-align: right;\n",
       "    }\n",
       "</style>\n",
       "<table border=\"1\" class=\"dataframe\">\n",
       "  <thead>\n",
       "    <tr style=\"text-align: right;\">\n",
       "      <th></th>\n",
       "      <th>borough</th>\n",
       "      <th>pm1</th>\n",
       "      <th>pm10</th>\n",
       "      <th>pm2.5</th>\n",
       "    </tr>\n",
       "  </thead>\n",
       "  <tbody>\n",
       "    <tr>\n",
       "      <th>0</th>\n",
       "      <td>Bronx</td>\n",
       "      <td>NaN</td>\n",
       "      <td>12.78</td>\n",
       "      <td>6.46</td>\n",
       "    </tr>\n",
       "    <tr>\n",
       "      <th>1</th>\n",
       "      <td>Brooklyn</td>\n",
       "      <td>7.07</td>\n",
       "      <td>14.88</td>\n",
       "      <td>10.32</td>\n",
       "    </tr>\n",
       "    <tr>\n",
       "      <th>2</th>\n",
       "      <td>Manhattan</td>\n",
       "      <td>8.98</td>\n",
       "      <td>9.62</td>\n",
       "      <td>10.15</td>\n",
       "    </tr>\n",
       "    <tr>\n",
       "      <th>3</th>\n",
       "      <td>Queens</td>\n",
       "      <td>4.96</td>\n",
       "      <td>8.67</td>\n",
       "      <td>8.70</td>\n",
       "    </tr>\n",
       "    <tr>\n",
       "      <th>4</th>\n",
       "      <td>Staten Island</td>\n",
       "      <td>NaN</td>\n",
       "      <td>NaN</td>\n",
       "      <td>5.90</td>\n",
       "    </tr>\n",
       "  </tbody>\n",
       "</table>\n",
       "</div>"
      ],
      "text/plain": [
       "         borough   pm1   pm10  pm2.5\n",
       "0          Bronx   NaN  12.78   6.46\n",
       "1       Brooklyn  7.07  14.88  10.32\n",
       "2      Manhattan  8.98   9.62  10.15\n",
       "3         Queens  4.96   8.67   8.70\n",
       "4  Staten Island   NaN    NaN   5.90"
      ]
     },
     "execution_count": 157,
     "metadata": {},
     "output_type": "execute_result"
    }
   ],
   "source": [
    "pollutant_path = \"avg_by_borough.csv\"\n",
    "\n",
    "dfpol = pd.read_csv(pollutant_path)\n",
    "\n",
    "print(dfpol.shape)\n",
    "\n",
    "dfpol = dfpol.rename(columns={\"pm25\":\"pm2.5\"})\n",
    "\n",
    "dfpol.head()"
   ]
  },
  {
   "cell_type": "code",
   "execution_count": 158,
   "id": "d04d50f0",
   "metadata": {},
   "outputs": [
    {
     "data": {
      "text/html": [
       "<div>\n",
       "<style scoped>\n",
       "    .dataframe tbody tr th:only-of-type {\n",
       "        vertical-align: middle;\n",
       "    }\n",
       "\n",
       "    .dataframe tbody tr th {\n",
       "        vertical-align: top;\n",
       "    }\n",
       "\n",
       "    .dataframe thead th {\n",
       "        text-align: right;\n",
       "    }\n",
       "</style>\n",
       "<table border=\"1\" class=\"dataframe\">\n",
       "  <thead>\n",
       "    <tr style=\"text-align: right;\">\n",
       "      <th></th>\n",
       "      <th>borough</th>\n",
       "      <th>pm1</th>\n",
       "      <th>pm10</th>\n",
       "      <th>pm2.5</th>\n",
       "    </tr>\n",
       "  </thead>\n",
       "  <tbody>\n",
       "    <tr>\n",
       "      <th>0</th>\n",
       "      <td>BRONX</td>\n",
       "      <td>NaN</td>\n",
       "      <td>12.78</td>\n",
       "      <td>6.46</td>\n",
       "    </tr>\n",
       "    <tr>\n",
       "      <th>1</th>\n",
       "      <td>BROOKLYN</td>\n",
       "      <td>7.07</td>\n",
       "      <td>14.88</td>\n",
       "      <td>10.32</td>\n",
       "    </tr>\n",
       "    <tr>\n",
       "      <th>2</th>\n",
       "      <td>MANHATTAN</td>\n",
       "      <td>8.98</td>\n",
       "      <td>9.62</td>\n",
       "      <td>10.15</td>\n",
       "    </tr>\n",
       "    <tr>\n",
       "      <th>3</th>\n",
       "      <td>QUEENS</td>\n",
       "      <td>4.96</td>\n",
       "      <td>8.67</td>\n",
       "      <td>8.70</td>\n",
       "    </tr>\n",
       "    <tr>\n",
       "      <th>4</th>\n",
       "      <td>STATEN ISLAND</td>\n",
       "      <td>NaN</td>\n",
       "      <td>NaN</td>\n",
       "      <td>5.90</td>\n",
       "    </tr>\n",
       "  </tbody>\n",
       "</table>\n",
       "</div>"
      ],
      "text/plain": [
       "         borough   pm1   pm10  pm2.5\n",
       "0          BRONX   NaN  12.78   6.46\n",
       "1       BROOKLYN  7.07  14.88  10.32\n",
       "2      MANHATTAN  8.98   9.62  10.15\n",
       "3         QUEENS  4.96   8.67   8.70\n",
       "4  STATEN ISLAND   NaN    NaN   5.90"
      ]
     },
     "execution_count": 158,
     "metadata": {},
     "output_type": "execute_result"
    }
   ],
   "source": [
    "dfpol['borough'] = dfpol['borough'].str.upper()\n",
    "\n",
    "dfpol"
   ]
  },
  {
   "cell_type": "code",
   "execution_count": 159,
   "id": "9dab1adb",
   "metadata": {},
   "outputs": [
    {
     "data": {
      "text/html": [
       "<div>\n",
       "<style scoped>\n",
       "    .dataframe tbody tr th:only-of-type {\n",
       "        vertical-align: middle;\n",
       "    }\n",
       "\n",
       "    .dataframe tbody tr th {\n",
       "        vertical-align: top;\n",
       "    }\n",
       "\n",
       "    .dataframe thead th {\n",
       "        text-align: right;\n",
       "    }\n",
       "</style>\n",
       "<table border=\"1\" class=\"dataframe\">\n",
       "  <thead>\n",
       "    <tr style=\"text-align: right;\">\n",
       "      <th></th>\n",
       "      <th>borough</th>\n",
       "      <th>noise_count</th>\n",
       "      <th>traffic_voloume</th>\n",
       "      <th>tree_count</th>\n",
       "      <th>pm1</th>\n",
       "      <th>pm10</th>\n",
       "      <th>pm2.5</th>\n",
       "    </tr>\n",
       "  </thead>\n",
       "  <tbody>\n",
       "    <tr>\n",
       "      <th>0</th>\n",
       "      <td>MANHATTAN</td>\n",
       "      <td>1076</td>\n",
       "      <td>134.200420</td>\n",
       "      <td>65423</td>\n",
       "      <td>8.98</td>\n",
       "      <td>9.62</td>\n",
       "      <td>10.15</td>\n",
       "    </tr>\n",
       "    <tr>\n",
       "      <th>1</th>\n",
       "      <td>BROOKLYN</td>\n",
       "      <td>736</td>\n",
       "      <td>112.641087</td>\n",
       "      <td>177293</td>\n",
       "      <td>7.07</td>\n",
       "      <td>14.88</td>\n",
       "      <td>10.32</td>\n",
       "    </tr>\n",
       "    <tr>\n",
       "      <th>2</th>\n",
       "      <td>QUEENS</td>\n",
       "      <td>418</td>\n",
       "      <td>130.446396</td>\n",
       "      <td>250551</td>\n",
       "      <td>4.96</td>\n",
       "      <td>8.67</td>\n",
       "      <td>8.70</td>\n",
       "    </tr>\n",
       "    <tr>\n",
       "      <th>3</th>\n",
       "      <td>BRONX</td>\n",
       "      <td>141</td>\n",
       "      <td>72.134778</td>\n",
       "      <td>85203</td>\n",
       "      <td>NaN</td>\n",
       "      <td>12.78</td>\n",
       "      <td>6.46</td>\n",
       "    </tr>\n",
       "    <tr>\n",
       "      <th>4</th>\n",
       "      <td>STATEN ISLAND</td>\n",
       "      <td>64</td>\n",
       "      <td>112.458627</td>\n",
       "      <td>105318</td>\n",
       "      <td>NaN</td>\n",
       "      <td>NaN</td>\n",
       "      <td>5.90</td>\n",
       "    </tr>\n",
       "  </tbody>\n",
       "</table>\n",
       "</div>"
      ],
      "text/plain": [
       "         borough  noise_count  traffic_voloume  tree_count   pm1   pm10  pm2.5\n",
       "0      MANHATTAN         1076       134.200420       65423  8.98   9.62  10.15\n",
       "1       BROOKLYN          736       112.641087      177293  7.07  14.88  10.32\n",
       "2         QUEENS          418       130.446396      250551  4.96   8.67   8.70\n",
       "3          BRONX          141        72.134778       85203   NaN  12.78   6.46\n",
       "4  STATEN ISLAND           64       112.458627      105318   NaN    NaN   5.90"
      ]
     },
     "execution_count": 159,
     "metadata": {},
     "output_type": "execute_result"
    }
   ],
   "source": [
    "merged_df = pd.merge(merged_df, dfpol, on=\"borough\")\n",
    "\n",
    "merged_df"
   ]
  },
  {
   "cell_type": "code",
   "execution_count": 161,
   "id": "23664636",
   "metadata": {},
   "outputs": [
    {
     "data": {
      "text/html": [
       "<div>\n",
       "<style scoped>\n",
       "    .dataframe tbody tr th:only-of-type {\n",
       "        vertical-align: middle;\n",
       "    }\n",
       "\n",
       "    .dataframe tbody tr th {\n",
       "        vertical-align: top;\n",
       "    }\n",
       "\n",
       "    .dataframe thead th {\n",
       "        text-align: right;\n",
       "    }\n",
       "</style>\n",
       "<table border=\"1\" class=\"dataframe\">\n",
       "  <thead>\n",
       "    <tr style=\"text-align: right;\">\n",
       "      <th></th>\n",
       "      <th>borough</th>\n",
       "      <th>noise_count</th>\n",
       "      <th>traffic_voloume</th>\n",
       "      <th>tree_count</th>\n",
       "      <th>pm1</th>\n",
       "      <th>pm10</th>\n",
       "      <th>pm2.5</th>\n",
       "    </tr>\n",
       "  </thead>\n",
       "  <tbody>\n",
       "    <tr>\n",
       "      <th>0</th>\n",
       "      <td>MANHATTAN</td>\n",
       "      <td>1076</td>\n",
       "      <td>134.200420</td>\n",
       "      <td>65423</td>\n",
       "      <td>8.98</td>\n",
       "      <td>9.62</td>\n",
       "      <td>10.15</td>\n",
       "    </tr>\n",
       "    <tr>\n",
       "      <th>1</th>\n",
       "      <td>BROOKLYN</td>\n",
       "      <td>736</td>\n",
       "      <td>112.641087</td>\n",
       "      <td>177293</td>\n",
       "      <td>7.07</td>\n",
       "      <td>14.88</td>\n",
       "      <td>10.32</td>\n",
       "    </tr>\n",
       "    <tr>\n",
       "      <th>2</th>\n",
       "      <td>QUEENS</td>\n",
       "      <td>418</td>\n",
       "      <td>130.446396</td>\n",
       "      <td>250551</td>\n",
       "      <td>4.96</td>\n",
       "      <td>8.67</td>\n",
       "      <td>8.70</td>\n",
       "    </tr>\n",
       "    <tr>\n",
       "      <th>3</th>\n",
       "      <td>BRONX</td>\n",
       "      <td>141</td>\n",
       "      <td>72.134778</td>\n",
       "      <td>85203</td>\n",
       "      <td>7.00</td>\n",
       "      <td>12.78</td>\n",
       "      <td>6.46</td>\n",
       "    </tr>\n",
       "    <tr>\n",
       "      <th>4</th>\n",
       "      <td>STATEN ISLAND</td>\n",
       "      <td>64</td>\n",
       "      <td>112.458627</td>\n",
       "      <td>105318</td>\n",
       "      <td>7.00</td>\n",
       "      <td>NaN</td>\n",
       "      <td>5.90</td>\n",
       "    </tr>\n",
       "  </tbody>\n",
       "</table>\n",
       "</div>"
      ],
      "text/plain": [
       "         borough  noise_count  traffic_voloume  tree_count   pm1   pm10  pm2.5\n",
       "0      MANHATTAN         1076       134.200420       65423  8.98   9.62  10.15\n",
       "1       BROOKLYN          736       112.641087      177293  7.07  14.88  10.32\n",
       "2         QUEENS          418       130.446396      250551  4.96   8.67   8.70\n",
       "3          BRONX          141        72.134778       85203  7.00  12.78   6.46\n",
       "4  STATEN ISLAND           64       112.458627      105318  7.00    NaN   5.90"
      ]
     },
     "execution_count": 161,
     "metadata": {},
     "output_type": "execute_result"
    }
   ],
   "source": [
    "merged_df[\"pm1\"] = merged_df[\"pm1\"].fillna(7)\n",
    "\n",
    "merged_df"
   ]
  },
  {
   "cell_type": "code",
   "execution_count": 162,
   "id": "0702469b",
   "metadata": {},
   "outputs": [
    {
     "data": {
      "text/html": [
       "<div>\n",
       "<style scoped>\n",
       "    .dataframe tbody tr th:only-of-type {\n",
       "        vertical-align: middle;\n",
       "    }\n",
       "\n",
       "    .dataframe tbody tr th {\n",
       "        vertical-align: top;\n",
       "    }\n",
       "\n",
       "    .dataframe thead th {\n",
       "        text-align: right;\n",
       "    }\n",
       "</style>\n",
       "<table border=\"1\" class=\"dataframe\">\n",
       "  <thead>\n",
       "    <tr style=\"text-align: right;\">\n",
       "      <th></th>\n",
       "      <th>borough</th>\n",
       "      <th>noise_count</th>\n",
       "      <th>traffic_voloume</th>\n",
       "      <th>tree_count</th>\n",
       "      <th>pm1</th>\n",
       "      <th>pm10</th>\n",
       "      <th>pm2.5</th>\n",
       "    </tr>\n",
       "  </thead>\n",
       "  <tbody>\n",
       "    <tr>\n",
       "      <th>0</th>\n",
       "      <td>MANHATTAN</td>\n",
       "      <td>1076</td>\n",
       "      <td>134.200420</td>\n",
       "      <td>65423</td>\n",
       "      <td>8.98</td>\n",
       "      <td>9.62</td>\n",
       "      <td>10.15</td>\n",
       "    </tr>\n",
       "    <tr>\n",
       "      <th>1</th>\n",
       "      <td>BROOKLYN</td>\n",
       "      <td>736</td>\n",
       "      <td>112.641087</td>\n",
       "      <td>177293</td>\n",
       "      <td>7.07</td>\n",
       "      <td>14.88</td>\n",
       "      <td>10.32</td>\n",
       "    </tr>\n",
       "    <tr>\n",
       "      <th>2</th>\n",
       "      <td>QUEENS</td>\n",
       "      <td>418</td>\n",
       "      <td>130.446396</td>\n",
       "      <td>250551</td>\n",
       "      <td>4.96</td>\n",
       "      <td>8.67</td>\n",
       "      <td>8.70</td>\n",
       "    </tr>\n",
       "    <tr>\n",
       "      <th>3</th>\n",
       "      <td>BRONX</td>\n",
       "      <td>141</td>\n",
       "      <td>72.134778</td>\n",
       "      <td>85203</td>\n",
       "      <td>7.00</td>\n",
       "      <td>12.78</td>\n",
       "      <td>6.46</td>\n",
       "    </tr>\n",
       "    <tr>\n",
       "      <th>4</th>\n",
       "      <td>STATEN ISLAND</td>\n",
       "      <td>64</td>\n",
       "      <td>112.458627</td>\n",
       "      <td>105318</td>\n",
       "      <td>7.00</td>\n",
       "      <td>11.49</td>\n",
       "      <td>5.90</td>\n",
       "    </tr>\n",
       "  </tbody>\n",
       "</table>\n",
       "</div>"
      ],
      "text/plain": [
       "         borough  noise_count  traffic_voloume  tree_count   pm1   pm10  pm2.5\n",
       "0      MANHATTAN         1076       134.200420       65423  8.98   9.62  10.15\n",
       "1       BROOKLYN          736       112.641087      177293  7.07  14.88  10.32\n",
       "2         QUEENS          418       130.446396      250551  4.96   8.67   8.70\n",
       "3          BRONX          141        72.134778       85203  7.00  12.78   6.46\n",
       "4  STATEN ISLAND           64       112.458627      105318  7.00  11.49   5.90"
      ]
     },
     "execution_count": 162,
     "metadata": {},
     "output_type": "execute_result"
    }
   ],
   "source": [
    "merged_df[\"pm10\"] = merged_df[\"pm10\"].fillna(11.49)\n",
    "\n",
    "merged_df"
   ]
  },
  {
   "cell_type": "code",
   "execution_count": 169,
   "id": "6c802a71",
   "metadata": {},
   "outputs": [
    {
     "name": "stdout",
     "output_type": "stream",
     "text": [
      "         borough    EQS  Category\n",
      "2         QUEENS  69.74      Good\n",
      "3          BRONX  61.47      Good\n",
      "4  STATEN ISLAND  58.72  Moderate\n",
      "1       BROOKLYN  31.89      Poor\n",
      "0      MANHATTAN   9.24      Poor\n"
     ]
    },
    {
     "data": {
      "image/png": "[encoded data removed]",
      "text/plain": [
       "<Figure size 800x500 with 1 Axes>"
      ]
     },
     "metadata": {},
     "output_type": "display_data"
    }
   ],
   "source": [
    "#Scale thing\n",
    "\n",
    "import pandas as pd\n",
    "import matplotlib.pyplot as plt\n",
    "from sklearn.preprocessing import MinMaxScaler\n",
    "\n",
    "# --- 1. Sample data (replace this with your actual dataset) ---\n",
    "#data = {\n",
    "#    \"Borough\": [\"Manhattan\", \"Brooklyn\", \"Queens\", \"Bronx\", \"Staten Island\"],\n",
    "#    \"Noise_Complaints\": [8200, 5000, 4000, 7000, 2000],\n",
    "#    \"Traffic_Volume\": [1200000, 1000000, 900000, 950000, 300000],\n",
    "#    \"Tree_Count\": [45000, 70000, 85000, 55000, 90000]\n",
    "#}\n",
    "\n",
    "#df = pd.DataFrame(data)\n",
    "\n",
    "# --- 2. Normalize the data (Min-Max 0–1) ---\n",
    "scaler = MinMaxScaler()\n",
    "\n",
    "# We'll normalize each column separately, making sure that \"more trees\" = better,\n",
    "# but \"more noise\" and \"more traffic\" = worse.\n",
    "merged_df[\"Noise_Norm\"] = 1 - scaler.fit_transform(merged_df[[\"noise_count\"]])\n",
    "merged_df[\"Traffic_Norm\"] = 1 - scaler.fit_transform(merged_df[[\"traffic_voloume\"]])\n",
    "merged_df[\"Tree_Norm\"] = scaler.fit_transform(merged_df[[\"tree_count\"]])\n",
    "merged_df[\"pm1_Norm\"] = 1 - scaler.fit_transform(merged_df[[\"pm1\"]])\n",
    "merged_df[\"pm2.5_Norm\"] = 1 - scaler.fit_transform(merged_df[[\"pm2.5\"]])\n",
    "merged_df[\"pm10_Norm\"] = 1 - scaler.fit_transform(merged_df[[\"pm10\"]])\n",
    "\n",
    "# --- 3. Compute the Environmental Quality Score (EQS) ---\n",
    "# Weights can be adjusted — here: Noise 0.3, Traffic 0.4, Trees 0.3\n",
    "merged_df[\"EQS\"] = 100 * (\n",
    "    0.1 * merged_df[\"Noise_Norm\"] +\n",
    "    0.15 * merged_df[\"Traffic_Norm\"] +\n",
    "    0.15 * merged_df[\"Tree_Norm\"] +\n",
    "    0.3 * merged_df[\"pm1_Norm\"] +\n",
    "    0.2 * merged_df[\"pm2.5_Norm\"] +\n",
    "    0.1 * merged_df[\"pm10_Norm\"]\n",
    ")\n",
    "\n",
    "merged_df[\"EQS\"] = merged_df[\"EQS\"].round(2)\n",
    "\n",
    "# --- 4. Categorize Boroughs based on EQS ---\n",
    "def classify(score):\n",
    "    if score >= 80:\n",
    "        return \"Excellent\"\n",
    "    elif score >= 60:\n",
    "        return \"Good\"\n",
    "    elif score >= 40:\n",
    "        return \"Moderate\"\n",
    "    else:\n",
    "        return \"Poor\"\n",
    "\n",
    "\n",
    "merged_df[\"Category\"] = merged_df[\"EQS\"].apply(classify)\n",
    "\n",
    "# --- 5. Display results ---\n",
    "print(merged_df[[\"borough\", \"EQS\", \"Category\"]].sort_values(\"EQS\", ascending=False))\n",
    "\n",
    "# --- 6. Visualization ---\n",
    "plt.figure(figsize=(8, 5))\n",
    "plt.bar(merged_df[\"borough\"], merged_df[\"EQS\"], color=\"seagreen\")\n",
    "plt.title(\"Environmental Quality Score (EQS) by NYC Borough\", fontsize=14)\n",
    "plt.ylabel(\"EQS (0–100)\")\n",
    "plt.ylim(0, 100)\n",
    "for i, val in enumerate(merged_df[\"EQS\"]):\n",
    "    plt.text(i, val + 2, f\"{val:.1f}\", ha=\"center\", fontsize=10)\n",
    "plt.show()\n"
   ]
  }
 ],
 "metadata": {
  "kernelspec": {
   "display_name": "base",
   "language": "python",
   "name": "python3"
  },
  "language_info": {
   "codemirror_mode": {
    "name": "ipython",
    "version": 3
   },
   "file_extension": ".py",
   "mimetype": "text/x-python",
   "name": "python",
   "nbconvert_exporter": "python",
   "pygments_lexer": "ipython3",
   "version": "3.13.5"
  }
 },
 "nbformat": 4,
 "nbformat_minor": 5
}
