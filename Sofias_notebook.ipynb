{
 "cells": [
  {
   "cell_type": "code",
   "execution_count": 2,
   "id": "2f5f1c35",
   "metadata": {},
   "outputs": [],
   "source": [
    "#Sofias notebook\n",
    "#Trees in NY"
   ]
  },
  {
   "cell_type": "code",
   "execution_count": 3,
   "id": "8c608808",
   "metadata": {},
   "outputs": [
    {
     "data": {
      "text/plain": [
       "b'Sofias_branch\\n'"
      ]
     },
     "execution_count": 3,
     "metadata": {},
     "output_type": "execute_result"
    }
   ],
   "source": [
    "#Tip I received on how to know which branch I am on:\n",
    "\n",
    "import subprocess\n",
    "subprocess.check_output([\"git\", \"rev-parse\", \"--abbrev-ref\", \"HEAD\"])\n",
    "\n"
   ]
  },
  {
   "cell_type": "code",
   "execution_count": 9,
   "id": "b240570f",
   "metadata": {},
   "outputs": [
    {
     "data": {
      "text/plain": [
       "(683788, 45)"
      ]
     },
     "execution_count": 9,
     "metadata": {},
     "output_type": "execute_result"
    }
   ],
   "source": [
    "import pandas as pd\n",
    "\n",
    "path_csv = \"2015-street-tree-census-tree-data.csv\"\n",
    "\n",
    "df = pd.read_csv(path_csv)\n",
    "\n",
    "df.shape"
   ]
  },
  {
   "cell_type": "code",
   "execution_count": 5,
   "id": "2c8b7fad",
   "metadata": {},
   "outputs": [
    {
     "data": {
      "text/html": [
       "<div>\n",
       "<style scoped>\n",
       "    .dataframe tbody tr th:only-of-type {\n",
       "        vertical-align: middle;\n",
       "    }\n",
       "\n",
       "    .dataframe tbody tr th {\n",
       "        vertical-align: top;\n",
       "    }\n",
       "\n",
       "    .dataframe thead th {\n",
       "        text-align: right;\n",
       "    }\n",
       "</style>\n",
       "<table border=\"1\" class=\"dataframe\">\n",
       "  <thead>\n",
       "    <tr style=\"text-align: right;\">\n",
       "      <th></th>\n",
       "      <th>tree_id</th>\n",
       "      <th>block_id</th>\n",
       "      <th>created_at</th>\n",
       "      <th>tree_dbh</th>\n",
       "      <th>stump_diam</th>\n",
       "      <th>curb_loc</th>\n",
       "      <th>status</th>\n",
       "      <th>health</th>\n",
       "      <th>spc_latin</th>\n",
       "      <th>spc_common</th>\n",
       "      <th>...</th>\n",
       "      <th>boro_ct</th>\n",
       "      <th>state</th>\n",
       "      <th>latitude</th>\n",
       "      <th>longitude</th>\n",
       "      <th>x_sp</th>\n",
       "      <th>y_sp</th>\n",
       "      <th>council district</th>\n",
       "      <th>census tract</th>\n",
       "      <th>bin</th>\n",
       "      <th>bbl</th>\n",
       "    </tr>\n",
       "  </thead>\n",
       "  <tbody>\n",
       "    <tr>\n",
       "      <th>0</th>\n",
       "      <td>180683</td>\n",
       "      <td>348711</td>\n",
       "      <td>2015-08-27T00:00:00.000</td>\n",
       "      <td>3</td>\n",
       "      <td>0</td>\n",
       "      <td>OnCurb</td>\n",
       "      <td>Alive</td>\n",
       "      <td>Fair</td>\n",
       "      <td>Acer rubrum</td>\n",
       "      <td>red maple</td>\n",
       "      <td>...</td>\n",
       "      <td>4073900</td>\n",
       "      <td>New York</td>\n",
       "      <td>40.723092</td>\n",
       "      <td>-73.844215</td>\n",
       "      <td>1027431.148</td>\n",
       "      <td>202756.7687</td>\n",
       "      <td>29.0</td>\n",
       "      <td>739.0</td>\n",
       "      <td>4052307.0</td>\n",
       "      <td>4.022210e+09</td>\n",
       "    </tr>\n",
       "    <tr>\n",
       "      <th>1</th>\n",
       "      <td>200540</td>\n",
       "      <td>315986</td>\n",
       "      <td>2015-09-03T00:00:00.000</td>\n",
       "      <td>21</td>\n",
       "      <td>0</td>\n",
       "      <td>OnCurb</td>\n",
       "      <td>Alive</td>\n",
       "      <td>Fair</td>\n",
       "      <td>Quercus palustris</td>\n",
       "      <td>pin oak</td>\n",
       "      <td>...</td>\n",
       "      <td>4097300</td>\n",
       "      <td>New York</td>\n",
       "      <td>40.794111</td>\n",
       "      <td>-73.818679</td>\n",
       "      <td>1034455.701</td>\n",
       "      <td>228644.8374</td>\n",
       "      <td>19.0</td>\n",
       "      <td>973.0</td>\n",
       "      <td>4101931.0</td>\n",
       "      <td>4.044750e+09</td>\n",
       "    </tr>\n",
       "    <tr>\n",
       "      <th>2</th>\n",
       "      <td>204026</td>\n",
       "      <td>218365</td>\n",
       "      <td>2015-09-05T00:00:00.000</td>\n",
       "      <td>3</td>\n",
       "      <td>0</td>\n",
       "      <td>OnCurb</td>\n",
       "      <td>Alive</td>\n",
       "      <td>Good</td>\n",
       "      <td>Gleditsia triacanthos var. inermis</td>\n",
       "      <td>honeylocust</td>\n",
       "      <td>...</td>\n",
       "      <td>3044900</td>\n",
       "      <td>New York</td>\n",
       "      <td>40.717581</td>\n",
       "      <td>-73.936608</td>\n",
       "      <td>1001822.831</td>\n",
       "      <td>200716.8913</td>\n",
       "      <td>34.0</td>\n",
       "      <td>449.0</td>\n",
       "      <td>3338310.0</td>\n",
       "      <td>3.028870e+09</td>\n",
       "    </tr>\n",
       "    <tr>\n",
       "      <th>3</th>\n",
       "      <td>204337</td>\n",
       "      <td>217969</td>\n",
       "      <td>2015-09-05T00:00:00.000</td>\n",
       "      <td>10</td>\n",
       "      <td>0</td>\n",
       "      <td>OnCurb</td>\n",
       "      <td>Alive</td>\n",
       "      <td>Good</td>\n",
       "      <td>Gleditsia triacanthos var. inermis</td>\n",
       "      <td>honeylocust</td>\n",
       "      <td>...</td>\n",
       "      <td>3044900</td>\n",
       "      <td>New York</td>\n",
       "      <td>40.713537</td>\n",
       "      <td>-73.934456</td>\n",
       "      <td>1002420.358</td>\n",
       "      <td>199244.2531</td>\n",
       "      <td>34.0</td>\n",
       "      <td>449.0</td>\n",
       "      <td>3338342.0</td>\n",
       "      <td>3.029250e+09</td>\n",
       "    </tr>\n",
       "    <tr>\n",
       "      <th>4</th>\n",
       "      <td>189565</td>\n",
       "      <td>223043</td>\n",
       "      <td>2015-08-30T00:00:00.000</td>\n",
       "      <td>21</td>\n",
       "      <td>0</td>\n",
       "      <td>OnCurb</td>\n",
       "      <td>Alive</td>\n",
       "      <td>Good</td>\n",
       "      <td>Tilia americana</td>\n",
       "      <td>American linden</td>\n",
       "      <td>...</td>\n",
       "      <td>3016500</td>\n",
       "      <td>New York</td>\n",
       "      <td>40.666778</td>\n",
       "      <td>-73.975979</td>\n",
       "      <td>990913.775</td>\n",
       "      <td>182202.4260</td>\n",
       "      <td>39.0</td>\n",
       "      <td>165.0</td>\n",
       "      <td>3025654.0</td>\n",
       "      <td>3.010850e+09</td>\n",
       "    </tr>\n",
       "  </tbody>\n",
       "</table>\n",
       "<p>5 rows × 45 columns</p>\n",
       "</div>"
      ],
      "text/plain": [
       "   tree_id  block_id               created_at  tree_dbh  stump_diam curb_loc  \\\n",
       "0   180683    348711  2015-08-27T00:00:00.000         3           0   OnCurb   \n",
       "1   200540    315986  2015-09-03T00:00:00.000        21           0   OnCurb   \n",
       "2   204026    218365  2015-09-05T00:00:00.000         3           0   OnCurb   \n",
       "3   204337    217969  2015-09-05T00:00:00.000        10           0   OnCurb   \n",
       "4   189565    223043  2015-08-30T00:00:00.000        21           0   OnCurb   \n",
       "\n",
       "  status health                           spc_latin       spc_common  ...  \\\n",
       "0  Alive   Fair                         Acer rubrum        red maple  ...   \n",
       "1  Alive   Fair                   Quercus palustris          pin oak  ...   \n",
       "2  Alive   Good  Gleditsia triacanthos var. inermis      honeylocust  ...   \n",
       "3  Alive   Good  Gleditsia triacanthos var. inermis      honeylocust  ...   \n",
       "4  Alive   Good                     Tilia americana  American linden  ...   \n",
       "\n",
       "   boro_ct     state   latitude  longitude         x_sp         y_sp  \\\n",
       "0  4073900  New York  40.723092 -73.844215  1027431.148  202756.7687   \n",
       "1  4097300  New York  40.794111 -73.818679  1034455.701  228644.8374   \n",
       "2  3044900  New York  40.717581 -73.936608  1001822.831  200716.8913   \n",
       "3  3044900  New York  40.713537 -73.934456  1002420.358  199244.2531   \n",
       "4  3016500  New York  40.666778 -73.975979   990913.775  182202.4260   \n",
       "\n",
       "  council district census tract        bin           bbl  \n",
       "0             29.0        739.0  4052307.0  4.022210e+09  \n",
       "1             19.0        973.0  4101931.0  4.044750e+09  \n",
       "2             34.0        449.0  3338310.0  3.028870e+09  \n",
       "3             34.0        449.0  3338342.0  3.029250e+09  \n",
       "4             39.0        165.0  3025654.0  3.010850e+09  \n",
       "\n",
       "[5 rows x 45 columns]"
      ]
     },
     "execution_count": 5,
     "metadata": {},
     "output_type": "execute_result"
    }
   ],
   "source": [
    "df.head()"
   ]
  },
  {
   "cell_type": "code",
   "execution_count": 6,
   "id": "c9115a4b",
   "metadata": {},
   "outputs": [
    {
     "data": {
      "text/plain": [
       "Index(['tree_id', 'block_id', 'created_at', 'tree_dbh', 'stump_diam',\n",
       "       'curb_loc', 'status', 'health', 'spc_latin', 'spc_common', 'steward',\n",
       "       'guards', 'sidewalk', 'user_type', 'problems', 'root_stone',\n",
       "       'root_grate', 'root_other', 'trunk_wire', 'trnk_light', 'trnk_other',\n",
       "       'brch_light', 'brch_shoe', 'brch_other', 'address', 'postcode',\n",
       "       'zip_city', 'community board', 'borocode', 'borough', 'cncldist',\n",
       "       'st_assem', 'st_senate', 'nta', 'nta_name', 'boro_ct', 'state',\n",
       "       'latitude', 'longitude', 'x_sp', 'y_sp', 'council district',\n",
       "       'census tract', 'bin', 'bbl'],\n",
       "      dtype='object')"
      ]
     },
     "execution_count": 6,
     "metadata": {},
     "output_type": "execute_result"
    }
   ],
   "source": [
    "df.columns"
   ]
  },
  {
   "cell_type": "code",
   "execution_count": 7,
   "id": "d3731e92",
   "metadata": {},
   "outputs": [
    {
     "data": {
      "text/plain": [
       "np.int64(0)"
      ]
     },
     "execution_count": 7,
     "metadata": {},
     "output_type": "execute_result"
    }
   ],
   "source": [
    "df[\"borough\"].isna().sum()\n",
    "\n",
    "#No value with NA in column borough"
   ]
  },
  {
   "cell_type": "code",
   "execution_count": 8,
   "id": "f0d5f337",
   "metadata": {},
   "outputs": [
    {
     "data": {
      "text/plain": [
       "borough\n",
       "Queens           250551\n",
       "Brooklyn         177293\n",
       "Staten Island    105318\n",
       "Bronx             85203\n",
       "Manhattan         65423\n",
       "Name: count, dtype: int64"
      ]
     },
     "execution_count": 8,
     "metadata": {},
     "output_type": "execute_result"
    }
   ],
   "source": [
    "tree_ny = df[\"borough\"].value_counts()\n",
    "\n",
    "tree_ny"
   ]
  },
  {
   "cell_type": "code",
   "execution_count": 10,
   "id": "09d75796",
   "metadata": {},
   "outputs": [
    {
     "data": {
      "image/png": "[encoded data removed]",
      "text/plain": [
       "<Figure size 800x600 with 1 Axes>"
      ]
     },
     "metadata": {},
     "output_type": "display_data"
    }
   ],
   "source": [
    "import matplotlib.pyplot as plt\n",
    "import seaborn as sns\n",
    "\n",
    "plt.figure(figsize=(8,6))\n",
    "sns.barplot(data=tree_ny_df, x='borough', y='count')\n",
    "plt.title(\"Tree counts in NY\")\n",
    "plt.ylabel(\"Count\")\n",
    "plt.xlabel(\"Borough\")\n",
    "plt.xticks(rotation=45)\n",
    "plt.tight_layout()\n",
    "plt.show()"
   ]
  },
  {
   "cell_type": "code",
   "execution_count": 14,
   "id": "ca767977",
   "metadata": {},
   "outputs": [
    {
     "name": "stdout",
     "output_type": "stream",
     "text": [
      "(2440, 4)\n"
     ]
    },
    {
     "name": "stdout",
     "output_type": "stream",
     "text": [
      "(2440, 4)\n"
     ]
    },
    {
     "data": {
      "text/html": [
       "<div>\n",
       "<style scoped>\n",
       "    .dataframe tbody tr th:only-of-type {\n",
       "        vertical-align: middle;\n",
       "    }\n",
       "\n",
       "    .dataframe tbody tr th {\n",
       "        vertical-align: top;\n",
       "    }\n",
       "\n",
       "    .dataframe thead th {\n",
       "        text-align: right;\n",
       "    }\n",
       "</style>\n",
       "<table border=\"1\" class=\"dataframe\">\n",
       "  <thead>\n",
       "    <tr style=\"text-align: right;\">\n",
       "      <th></th>\n",
       "      <th>Location Type</th>\n",
       "      <th>City</th>\n",
       "      <th>Borough</th>\n",
       "      <th>num_calls</th>\n",
       "    </tr>\n",
       "  </thead>\n",
       "  <tbody>\n",
       "    <tr>\n",
       "      <th>0</th>\n",
       "      <td>Club/Bar/Restaurant</td>\n",
       "      <td>STATEN ISLAND</td>\n",
       "      <td>STATEN ISLAND</td>\n",
       "      <td>40</td>\n",
       "    </tr>\n",
       "    <tr>\n",
       "      <th>1</th>\n",
       "      <td>Club/Bar/Restaurant</td>\n",
       "      <td>NEW YORK</td>\n",
       "      <td>MANHATTAN</td>\n",
       "      <td>18</td>\n",
       "    </tr>\n",
       "    <tr>\n",
       "      <th>2</th>\n",
       "      <td>Club/Bar/Restaurant</td>\n",
       "      <td>STATEN ISLAND</td>\n",
       "      <td>STATEN ISLAND</td>\n",
       "      <td>21</td>\n",
       "    </tr>\n",
       "    <tr>\n",
       "      <th>3</th>\n",
       "      <td>Club/Bar/Restaurant</td>\n",
       "      <td>NEW YORK</td>\n",
       "      <td>MANHATTAN</td>\n",
       "      <td>160</td>\n",
       "    </tr>\n",
       "    <tr>\n",
       "      <th>4</th>\n",
       "      <td>Club/Bar/Restaurant</td>\n",
       "      <td>BROOKLYN</td>\n",
       "      <td>BROOKLYN</td>\n",
       "      <td>17</td>\n",
       "    </tr>\n",
       "  </tbody>\n",
       "</table>\n",
       "</div>"
      ],
      "text/plain": [
       "         Location Type           City        Borough  num_calls\n",
       "0  Club/Bar/Restaurant  STATEN ISLAND  STATEN ISLAND         40\n",
       "1  Club/Bar/Restaurant       NEW YORK      MANHATTAN         18\n",
       "2  Club/Bar/Restaurant  STATEN ISLAND  STATEN ISLAND         21\n",
       "3  Club/Bar/Restaurant       NEW YORK      MANHATTAN        160\n",
       "4  Club/Bar/Restaurant       BROOKLYN       BROOKLYN         17"
      ]
     },
     "execution_count": 14,
     "metadata": {},
     "output_type": "execute_result"
    }
   ],
   "source": [
    "path_noise = \"Noise_complaint_mass.csv\"\n",
    "\n",
    "dfn = pd.read_csv(path_noise)\n",
    "\n",
    "print(dfn.shape)\n",
    "\n",
    "dfn.head()"
   ]
  },
  {
   "cell_type": "code",
   "execution_count": 15,
   "id": "547642a2",
   "metadata": {},
   "outputs": [
    {
     "data": {
      "text/plain": [
       "np.int64(0)"
      ]
     },
     "execution_count": 15,
     "metadata": {},
     "output_type": "execute_result"
    }
   ],
   "source": [
    "dfn[\"Borough\"].isna().sum()"
   ]
  },
  {
   "cell_type": "code",
   "execution_count": 16,
   "id": "cd16fefa",
   "metadata": {},
   "outputs": [
    {
     "data": {
      "text/plain": [
       "Borough\n",
       "MANHATTAN        1076\n",
       "BROOKLYN          736\n",
       "QUEENS            418\n",
       "BRONX             141\n",
       "STATEN ISLAND      64\n",
       "Unspecified         5\n",
       "Name: count, dtype: int64"
      ]
     },
     "execution_count": 16,
     "metadata": {},
     "output_type": "execute_result"
    }
   ],
   "source": [
    "noise_ny = dfn[\"Borough\"].value_counts()\n",
    "\n",
    "noise_ny"
   ]
  },
  {
   "cell_type": "code",
   "execution_count": 22,
   "id": "84d6c464",
   "metadata": {},
   "outputs": [
    {
     "name": "stdout",
     "output_type": "stream",
     "text": [
      "Shape after removing Unspecified: (2435, 4)\n"
     ]
    }
   ],
   "source": [
    "# Remove rows where Borough is \"Unspecified\"\n",
    "dfn = dfn[dfn[\"Borough\"] != \"Unspecified\"]\n",
    "\n",
    "print(f\"Shape after removing Unspecified: {dfn.shape}\")\n",
    "noise_ny = dfn[\"Borough\"].value_counts()"
   ]
  },
  {
   "cell_type": "code",
   "execution_count": 23,
   "id": "d30a6541",
   "metadata": {},
   "outputs": [
    {
     "data": {
      "text/html": [
       "<div>\n",
       "<style scoped>\n",
       "    .dataframe tbody tr th:only-of-type {\n",
       "        vertical-align: middle;\n",
       "    }\n",
       "\n",
       "    .dataframe tbody tr th {\n",
       "        vertical-align: top;\n",
       "    }\n",
       "\n",
       "    .dataframe thead th {\n",
       "        text-align: right;\n",
       "    }\n",
       "</style>\n",
       "<table border=\"1\" class=\"dataframe\">\n",
       "  <thead>\n",
       "    <tr style=\"text-align: right;\">\n",
       "      <th></th>\n",
       "      <th>borough</th>\n",
       "      <th>count</th>\n",
       "    </tr>\n",
       "  </thead>\n",
       "  <tbody>\n",
       "    <tr>\n",
       "      <th>0</th>\n",
       "      <td>MANHATTAN</td>\n",
       "      <td>1076</td>\n",
       "    </tr>\n",
       "    <tr>\n",
       "      <th>1</th>\n",
       "      <td>BROOKLYN</td>\n",
       "      <td>736</td>\n",
       "    </tr>\n",
       "    <tr>\n",
       "      <th>2</th>\n",
       "      <td>QUEENS</td>\n",
       "      <td>418</td>\n",
       "    </tr>\n",
       "    <tr>\n",
       "      <th>3</th>\n",
       "      <td>BRONX</td>\n",
       "      <td>141</td>\n",
       "    </tr>\n",
       "    <tr>\n",
       "      <th>4</th>\n",
       "      <td>STATEN ISLAND</td>\n",
       "      <td>64</td>\n",
       "    </tr>\n",
       "  </tbody>\n",
       "</table>\n",
       "</div>"
      ],
      "text/plain": [
       "         borough  count\n",
       "0      MANHATTAN   1076\n",
       "1       BROOKLYN    736\n",
       "2         QUEENS    418\n",
       "3          BRONX    141\n",
       "4  STATEN ISLAND     64"
      ]
     },
     "execution_count": 23,
     "metadata": {},
     "output_type": "execute_result"
    }
   ],
   "source": [
    "noise_ny_df = noise_ny.reset_index()\n",
    "noise_ny_df.columns = ['borough', 'count']\n",
    "\n",
    "noise_ny_df"
   ]
  },
  {
   "cell_type": "code",
   "execution_count": 24,
   "id": "8d842d62",
   "metadata": {},
   "outputs": [
    {
     "data": {
      "image/png": "[encoded data removed]",
      "text/plain": [
       "<Figure size 800x600 with 1 Axes>"
      ]
     },
     "metadata": {},
     "output_type": "display_data"
    }
   ],
   "source": [
    "plt.figure(figsize=(8,6))\n",
    "sns.barplot(data=noise_ny_df, x='borough', y='count')\n",
    "plt.title(\"Noise counts in NY\")\n",
    "plt.ylabel(\"Count\")\n",
    "plt.xlabel(\"Borough\")\n",
    "plt.xticks(rotation=45)\n",
    "plt.tight_layout()\n",
    "plt.show()"
   ]
  },
  {
   "cell_type": "markdown",
   "id": "704a9498",
   "metadata": {},
   "source": [
    "import requests\n",
    "import pandas as pd\n",
    "\n",
    "# === CONFIG ===\n",
    "API_KEY = \"4b9323db6a394aafebd3fe5cd033de487371118153f3f1fb774462ad878cbe62\"  # ⬅️ paste your key here\n",
    "BASE_URL = \"https://api.openaq.org/v3\"\n",
    "HEADERS = {\"Authorization\": f\"Bearer {API_KEY}\"}\n",
    "\n",
    "def fetch_locations_in_bbox(bbox, parameter=None, limit=100):\n",
    "    \"\"\"Fetch all monitoring locations inside a bounding box (v3 API).\"\"\"\n",
    "    all_results = []\n",
    "    page = 1\n",
    "    while True:\n",
    "        params = {\n",
    "            \"bbox\": f\"{bbox[0]},{bbox[1]},{bbox[2]},{bbox[3]}\",\n",
    "            \"limit\": limit,\n",
    "            \"page\": page,\n",
    "        }\n",
    "        if parameter:\n",
    "            params[\"parameter\"] = parameter\n",
    "        r = requests.get(f\"{BASE_URL}/locations\", headers=HEADERS, params=params)\n",
    "        r.raise_for_status()\n",
    "        data = r.json()\n",
    "        results = data.get(\"results\", [])\n",
    "        if not results:\n",
    "            break\n",
    "        all_results.extend(results)\n",
    "        if len(results) < limit:\n",
    "            break\n",
    "        page += 1\n",
    "    return all_results\n",
    "\n",
    "\n",
    "def fetch_measurements(location_id, parameter=None, date_from=None, date_to=None, limit=100):\n",
    "    \"\"\"Fetch measurements for a specific location ID (v3 API).\"\"\"\n",
    "    all_results = []\n",
    "    page = 1\n",
    "    while True:\n",
    "        params = {\n",
    "            \"location_id\": location_id,\n",
    "            \"limit\": limit,\n",
    "            \"page\": page,\n",
    "        }\n",
    "        if parameter:\n",
    "            params[\"parameter\"] = parameter\n",
    "        if date_from:\n",
    "            params[\"date_from\"] = date_from\n",
    "        if date_to:\n",
    "            params[\"date_to\"] = date_to\n",
    "\n",
    "        r = requests.get(f\"{BASE_URL}/measurements\", headers=HEADERS, params=params)\n",
    "        if r.status_code == 404:\n",
    "            break\n",
    "        r.raise_for_status()\n",
    "\n",
    "        data = r.json()\n",
    "        results = data.get(\"results\", [])\n",
    "        if not results:\n",
    "            break\n",
    "        all_results.extend(results)\n",
    "        if len(results) < limit:\n",
    "            break\n",
    "        page += 1\n",
    "    return all_results\n",
    "\n",
    "\n",
    "def get_borough_data(name, bbox, parameter=\"pm25\", date_from=\"2025-01-01T00:00:00Z\", date_to=None):\n",
    "    print(f\"\\n📍 Fetching locations in {name}...\")\n",
    "    locations = fetch_locations_in_bbox(bbox, parameter=parameter)\n",
    "    if not locations:\n",
    "        print(f\"⚠️  No locations found in {name}\")\n",
    "        return pd.DataFrame()\n",
    "\n",
    "    print(f\"   Found {len(locations)} monitoring locations\")\n",
    "\n",
    "    all_records = []\n",
    "    for loc in locations:\n",
    "        loc_id = loc[\"id\"]\n",
    "        loc_name = loc.get(\"name\", \"unknown\")\n",
    "        print(f\"   ↳ Fetching data from {loc_name} (ID {loc_id}) ...\")\n",
    "        results = fetch_measurements(loc_id, parameter=parameter, date_from=date_from, date_to=date_to)\n",
    "        for res in results:\n",
    "            res[\"borough\"] = name\n",
    "        all_records.extend(results)\n",
    "\n",
    "    if not all_records:\n",
    "        print(f\"⚠️  No measurements for {name}\")\n",
    "        return pd.DataFrame()\n",
    "\n",
    "    return pd.DataFrame(all_records)\n",
    "\n",
    "\n",
    "# Approximate borough bounding boxes\n",
    "boroughs = {\n",
    "    \"Manhattan\": (-74.03, 40.70, -73.93, 40.88),\n",
    "    \"Brooklyn\": (-74.05, 40.57, -73.85, 40.74),\n",
    "    \"Queens\": (-73.96, 40.54, -73.70, 40.80),\n",
    "    \"Bronx\": (-73.93, 40.79, -73.76, 40.92),\n",
    "    \"Staten Island\": (-74.25, 40.50, -74.05, 40.65),\n",
    "}\n",
    "\n",
    "# Example: fetch PM2.5 data for 2025\n",
    "all_borough_data = []\n",
    "for borough, bbox in boroughs.items():\n",
    "    df = get_borough_data(borough, bbox)\n",
    "    all_borough_data.append(df)\n",
    "\n",
    "# Combine into one DataFrame\n",
    "nyc_data = pd.concat(all_borough_data, ignore_index=True)\n",
    "print(\"\\n✅ Combined NYC data:\", nyc_data.shape)\n",
    "print(nyc_data.head())\n",
    "columns.tolist()}\")\n",
    "            df_air.head()\n",
    "        else:\n",
    "            print(\"❌ No measurements found for the specified criteria\")\n",
    "            \n",
    "except Exception as e:\n",
    "    print(f\"❌ Error: {e}\")\n",
    "    print(\"Make sure openaq is installed: pip install openaq\")"
   ]
  },
  {
   "cell_type": "code",
   "execution_count": 1,
   "id": "57a3c01d",
   "metadata": {},
   "outputs": [
    {
     "name": "stdout",
     "output_type": "stream",
     "text": [
      "Found 54 locations.\n"
     ]
    },
    {
     "data": {
      "text/plain": [
       "{'id': 384,\n",
       " 'name': 'CCNY',\n",
       " 'locality': 'New York-Northern New Jersey-Long Island',\n",
       " 'timezone': 'America/New_York',\n",
       " 'country': {'id': 155, 'code': 'US', 'name': 'United States'},\n",
       " 'owner': {'id': 4, 'name': 'Unknown Governmental Organization'},\n",
       " 'provider': {'id': 119, 'name': 'AirNow'},\n",
       " 'isMobile': False,\n",
       " 'isMonitor': True,\n",
       " 'instruments': [{'id': 2, 'name': 'Government Monitor'}],\n",
       " 'sensors': [{'id': 671,\n",
       "   'name': 'o3 ppm',\n",
       "   'parameter': {'id': 10, 'name': 'o3', 'units': 'ppm', 'displayName': 'O₃'}},\n",
       "  {'id': 673,\n",
       "   'name': 'pm25 µg/m³',\n",
       "   'parameter': {'id': 2,\n",
       "    'name': 'pm25',\n",
       "    'units': 'µg/m³',\n",
       "    'displayName': 'PM2.5'}}],\n",
       " 'coordinates': {'latitude': 40.8197, 'longitude': -73.9481},\n",
       " 'licenses': [{'id': 33,\n",
       "   'name': 'US Public Domain',\n",
       "   'attribution': {'name': 'Unknown Governmental Organization', 'url': None},\n",
       "   'dateFrom': '2016-01-30',\n",
       "   'dateTo': None}],\n",
       " 'bounds': [-73.9481, 40.8197, -73.9481, 40.8197],\n",
       " 'distance': None,\n",
       " 'datetimeFirst': {'utc': '2016-03-12T09:00:00Z',\n",
       "  'local': '2016-03-12T04:00:00-05:00'},\n",
       " 'datetimeLast': {'utc': '2025-10-08T15:00:00Z',\n",
       "  'local': '2025-10-08T11:00:00-04:00'}}"
      ]
     },
     "execution_count": 1,
     "metadata": {},
     "output_type": "execute_result"
    }
   ],
   "source": [
    "import requests\n",
    "\n",
    "API_KEY = \"4b9323db6a394aafebd3fe5cd033de487371118153f3f1fb774462ad878cbe62\"  # Replace with your key\n",
    "BASE_URL = \"https://api.openaq.org/v3\"\n",
    "HEADERS = {\"X-API-Key\": API_KEY}\n",
    "\n",
    "params = {\n",
    "    \"bbox\": \"-74.268196,40.489402,-73.691714,40.921195\", #put here the bbox and coordinates\n",
    "    \"limit\": 100,\n",
    "    \"page\": 1,\n",
    "}\n",
    "\n",
    "r = requests.get(f\"{BASE_URL}/locations\", headers=HEADERS, params=params)\n",
    "data = r.json()\n",
    "print(f\"Found {data['meta'][\"found\"]} locations.\")\n",
    "data[\"results\"][0]"
   ]
  },
  {
   "cell_type": "code",
   "execution_count": null,
   "id": "d1a2d14f",
   "metadata": {},
   "outputs": [],
   "source": [
    "#fazer uma tabela so com a localizacao e os sensores\n",
    "#fazer uma dict: localizacao (coordinates) e sensor id"
   ]
  },
  {
   "cell_type": "code",
   "execution_count": 12,
   "id": "e87a95bc",
   "metadata": {},
   "outputs": [],
   "source": [
    "all_sensors = {}\n",
    "\n",
    "for i in range(len(data[\"results\"])):\n",
    "    # Get the bounds (coordinates) as a tuple to use as dictionary key\n",
    "    bounds = data[\"results\"][i][\"bounds\"]\n",
    "    location_key = (bounds[0], bounds[1])  # (longitude, latitude)\n",
    "    \n",
    "    # Get all sensor IDs for this location\n",
    "    sensor_ids = []\n",
    "    for j in range(len(data[\"results\"][i][\"sensors\"])):\n",
    "        sensor_id = data[\"results\"][i][\"sensors\"][j][\"id\"]\n",
    "        sensor_ids.append(sensor_id)\n",
    "    \n",
    "    # Store in dictionary\n",
    "    all_sensors[location_key] = sensor_ids\n",
    "\n",
    "# Convert dictionary to DataFrame properly\n",
    "sensors_data = []\n",
    "for location, sensors in all_sensors.items():\n",
    "    longitude, latitude = location\n",
    "    for sensor_id in sensors:\n",
    "        sensors_data.append({\n",
    "            'longitude': longitude,\n",
    "            'latitude': latitude,\n",
    "            'sensor_id': sensor_id\n",
    "        })\n",
    "\n",
    "sensors_pd = pd.DataFrame(sensors_data)\n",
    "\n",
    "sensors_pd.to_csv(\"all_sensors.csv\")"
   ]
  },
  {
   "cell_type": "code",
   "execution_count": null,
   "id": "0ee6dd66",
   "metadata": {},
   "outputs": [
    {
     "name": "stdout",
     "output_type": "stream",
     "text": [
      "Found {'name': 'openaq-api', 'website': '/', 'page': 1, 'limit': 100, 'found': 9} locations.\n"
     ]
    }
   ],
   "source": [
    "params_meas = {\n",
    "    \"limit\": 100,\n",
    "    \"page\": 1,\n",
    "}\n",
    "\n",
    "r_meas = requests.get(f\"{BASE_URL}/sensors/671/years\", headers=HEADERS, params=params_meas)\n",
    "data_meas = r_meas.json()\n",
    "#print(f\"Found {data_meas['meta']} locations.\")\n"
   ]
  },
  {
   "cell_type": "code",
   "execution_count": 7,
   "id": "fef5c07a",
   "metadata": {},
   "outputs": [
    {
     "data": {
      "text/plain": [
       "{'value': 0.0172,\n",
       " 'flagInfo': {'hasFlags': False},\n",
       " 'parameter': {'id': 10, 'name': 'o3', 'units': 'ppm', 'displayName': None},\n",
       " 'period': {'label': '1year',\n",
       "  'interval': '1 year',\n",
       "  'datetimeFrom': {'utc': '2016-01-01T05:00:00Z',\n",
       "   'local': '2016-01-01T00:00:00-05:00'},\n",
       "  'datetimeTo': {'utc': '2017-01-01T05:00:00Z',\n",
       "   'local': '2017-01-01T00:00:00-05:00'}},\n",
       " 'coordinates': None,\n",
       " 'summary': {'min': 0.0,\n",
       "  'q02': 0.0010000000474974513,\n",
       "  'q25': 0.008999999612569809,\n",
       "  'median': 0.017000000923871994,\n",
       "  'q75': 0.024250000715255737,\n",
       "  'q98': 0.04292000085115433,\n",
       "  'max': 0.04600000008940697,\n",
       "  'avg': 0.01722368411719799,\n",
       "  'sd': 0.010914597660303116},\n",
       " 'coverage': {'expectedCount': 8784,\n",
       "  'expectedInterval': '8784:00:00',\n",
       "  'observedCount': 152,\n",
       "  'observedInterval': '152:00:00',\n",
       "  'percentComplete': 2.0,\n",
       "  'percentCoverage': 2.0,\n",
       "  'datetimeFrom': {'utc': '2016-03-12T09:00:00Z',\n",
       "   'local': '2016-03-12T04:00:00-05:00'},\n",
       "  'datetimeTo': {'utc': '2016-12-29T04:00:00Z',\n",
       "   'local': '2016-12-28T23:00:00-05:00'}}}"
      ]
     },
     "execution_count": 7,
     "metadata": {},
     "output_type": "execute_result"
    }
   ],
   "source": [
    "data_meas[\"results\"][0]"
   ]
  },
  {
   "cell_type": "code",
   "execution_count": null,
   "id": "2e8df07b",
   "metadata": {},
   "outputs": [],
   "source": []
  },
  {
   "cell_type": "code",
   "execution_count": null,
   "id": "bb70ea02",
   "metadata": {},
   "outputs": [],
   "source": [
    "#-74.268196,40.489402,-73.691714,40.921195"
   ]
  },
  {
   "cell_type": "code",
   "execution_count": 23,
   "id": "748495db",
   "metadata": {},
   "outputs": [
    {
     "name": "stdout",
     "output_type": "stream",
     "text": [
      "c:\\Users\\Sofia\\anaconda3\\python.exe\n"
     ]
    }
   ],
   "source": [
    "import sys\n",
    "print(sys.executable)"
   ]
  },
  {
   "cell_type": "code",
   "execution_count": null,
   "id": "b821890e",
   "metadata": {},
   "outputs": [],
   "source": [
    "#conda activate blablabla\n",
    "#pip install openaq"
   ]
  }
 ],
 "metadata": {
  "kernelspec": {
   "display_name": "base",
   "language": "python",
   "name": "python3"
  },
  "language_info": {
   "codemirror_mode": {
    "name": "ipython",
    "version": 3
   },
   "file_extension": ".py",
   "mimetype": "text/x-python",
   "name": "python",
   "nbconvert_exporter": "python",
   "pygments_lexer": "ipython3",
   "version": "3.13.5"
  }
 },
 "nbformat": 4,
 "nbformat_minor": 5
}
